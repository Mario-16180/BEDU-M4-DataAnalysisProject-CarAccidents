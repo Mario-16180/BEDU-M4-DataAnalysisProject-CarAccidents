{
 "cells": [
  {
   "cell_type": "markdown",
   "metadata": {},
   "source": [
    "# Evaluación del tiempo de atención a incidentes viales\n",
    "\n",
    "Se trabajó con el dataset \"\" que contiene los datos de los reportes de incidentes viales de la ciudad de México de los años 2016 a 2021 realizados por el c4. Este dataset fue preprocesdado durante el módulo anterior. "
   ]
  },
  {
   "cell_type": "code",
   "execution_count": 1,
   "metadata": {},
   "outputs": [],
   "source": [
    "# Importar librearías\n",
    "\n",
    "import pandas as pd\n",
    "import matplotlib.pyplot as plt\n",
    "import seaborn as sns\n",
    "import numpy as np\n",
    "import datetime as dt\n",
    "from scipy import stats as sts"
   ]
  },
  {
   "cell_type": "code",
   "execution_count": 2,
   "metadata": {},
   "outputs": [
    {
     "data": {
      "text/html": [
       "<div>\n",
       "<style scoped>\n",
       "    .dataframe tbody tr th:only-of-type {\n",
       "        vertical-align: middle;\n",
       "    }\n",
       "\n",
       "    .dataframe tbody tr th {\n",
       "        vertical-align: top;\n",
       "    }\n",
       "\n",
       "    .dataframe thead th {\n",
       "        text-align: right;\n",
       "    }\n",
       "</style>\n",
       "<table border=\"1\" class=\"dataframe\">\n",
       "  <thead>\n",
       "    <tr style=\"text-align: right;\">\n",
       "      <th></th>\n",
       "      <th>folio</th>\n",
       "      <th>codigo_cierre</th>\n",
       "      <th>delegacion_inicio</th>\n",
       "      <th>incidente_c4</th>\n",
       "      <th>latitud</th>\n",
       "      <th>longitud</th>\n",
       "      <th>clas_con_f_alarma</th>\n",
       "      <th>tipo_entrada</th>\n",
       "      <th>delegacion_cierre</th>\n",
       "      <th>mes</th>\n",
       "      <th>fecha_hora_cierre</th>\n",
       "      <th>fecha_hora_creacion</th>\n",
       "    </tr>\n",
       "  </thead>\n",
       "  <tbody>\n",
       "    <tr>\n",
       "      <th>2</th>\n",
       "      <td>C5/170622/03715</td>\n",
       "      <td>(N) La unidad de atención a emergencias fue de...</td>\n",
       "      <td>VENUSTIANO CARRANZA</td>\n",
       "      <td>accidente-choque sin lesionados</td>\n",
       "      <td>19.43053</td>\n",
       "      <td>-99.05260</td>\n",
       "      <td>EMERGENCIA</td>\n",
       "      <td>LLAMADA DEL 911</td>\n",
       "      <td>VENUSTIANO CARRANZA</td>\n",
       "      <td>6</td>\n",
       "      <td>2017-06-22 16:48:07</td>\n",
       "      <td>2017-06-22 13:44:52</td>\n",
       "    </tr>\n",
       "    <tr>\n",
       "      <th>5</th>\n",
       "      <td>C5/170621/07339</td>\n",
       "      <td>(A) La unidad de atención a emergencias fue de...</td>\n",
       "      <td>IZTAPALAPA</td>\n",
       "      <td>accidente-choque sin lesionados</td>\n",
       "      <td>19.38676</td>\n",
       "      <td>-99.03350</td>\n",
       "      <td>EMERGENCIA</td>\n",
       "      <td>LLAMADA DEL 911</td>\n",
       "      <td>IZTAPALAPA</td>\n",
       "      <td>6</td>\n",
       "      <td>2017-06-22 03:53:51</td>\n",
       "      <td>2017-06-21 23:29:01</td>\n",
       "    </tr>\n",
       "    <tr>\n",
       "      <th>8</th>\n",
       "      <td>C5/170622/01694</td>\n",
       "      <td>(N) La unidad de atención a emergencias fue de...</td>\n",
       "      <td>IZTAPALAPA</td>\n",
       "      <td>accidente-choque sin lesionados</td>\n",
       "      <td>19.35017</td>\n",
       "      <td>-99.07324</td>\n",
       "      <td>EMERGENCIA</td>\n",
       "      <td>LLAMADA DEL 911</td>\n",
       "      <td>IZTAPALAPA</td>\n",
       "      <td>6</td>\n",
       "      <td>2017-06-22 10:47:19</td>\n",
       "      <td>2017-06-22 08:51:30</td>\n",
       "    </tr>\n",
       "    <tr>\n",
       "      <th>9</th>\n",
       "      <td>C5/170622/03779</td>\n",
       "      <td>(N) La unidad de atención a emergencias fue de...</td>\n",
       "      <td>CUAJIMALPA</td>\n",
       "      <td>accidente-choque sin lesionados</td>\n",
       "      <td>19.37273</td>\n",
       "      <td>-99.27753</td>\n",
       "      <td>EMERGENCIA</td>\n",
       "      <td>LLAMADA DEL 911</td>\n",
       "      <td>CUAJIMALPA</td>\n",
       "      <td>6</td>\n",
       "      <td>2017-06-22 14:17:46</td>\n",
       "      <td>2017-06-22 13:49:44</td>\n",
       "    </tr>\n",
       "    <tr>\n",
       "      <th>12</th>\n",
       "      <td>C5/170622/04693</td>\n",
       "      <td>(N) La unidad de atención a emergencias fue de...</td>\n",
       "      <td>MIGUEL HIDALGO</td>\n",
       "      <td>accidente-choque sin lesionados</td>\n",
       "      <td>19.45316</td>\n",
       "      <td>-99.19868</td>\n",
       "      <td>EMERGENCIA</td>\n",
       "      <td>LLAMADA DEL 911</td>\n",
       "      <td>MIGUEL HIDALGO</td>\n",
       "      <td>6</td>\n",
       "      <td>2017-06-22 16:47:41</td>\n",
       "      <td>2017-06-22 15:48:39</td>\n",
       "    </tr>\n",
       "  </tbody>\n",
       "</table>\n",
       "</div>"
      ],
      "text/plain": [
       "              folio                                      codigo_cierre  \\\n",
       "2   C5/170622/03715  (N) La unidad de atención a emergencias fue de...   \n",
       "5   C5/170621/07339  (A) La unidad de atención a emergencias fue de...   \n",
       "8   C5/170622/01694  (N) La unidad de atención a emergencias fue de...   \n",
       "9   C5/170622/03779  (N) La unidad de atención a emergencias fue de...   \n",
       "12  C5/170622/04693  (N) La unidad de atención a emergencias fue de...   \n",
       "\n",
       "      delegacion_inicio                     incidente_c4   latitud  longitud  \\\n",
       "2   VENUSTIANO CARRANZA  accidente-choque sin lesionados  19.43053 -99.05260   \n",
       "5            IZTAPALAPA  accidente-choque sin lesionados  19.38676 -99.03350   \n",
       "8            IZTAPALAPA  accidente-choque sin lesionados  19.35017 -99.07324   \n",
       "9            CUAJIMALPA  accidente-choque sin lesionados  19.37273 -99.27753   \n",
       "12       MIGUEL HIDALGO  accidente-choque sin lesionados  19.45316 -99.19868   \n",
       "\n",
       "   clas_con_f_alarma     tipo_entrada    delegacion_cierre  mes  \\\n",
       "2         EMERGENCIA  LLAMADA DEL 911  VENUSTIANO CARRANZA    6   \n",
       "5         EMERGENCIA  LLAMADA DEL 911           IZTAPALAPA    6   \n",
       "8         EMERGENCIA  LLAMADA DEL 911           IZTAPALAPA    6   \n",
       "9         EMERGENCIA  LLAMADA DEL 911           CUAJIMALPA    6   \n",
       "12        EMERGENCIA  LLAMADA DEL 911       MIGUEL HIDALGO    6   \n",
       "\n",
       "      fecha_hora_cierre  fecha_hora_creacion  \n",
       "2   2017-06-22 16:48:07  2017-06-22 13:44:52  \n",
       "5   2017-06-22 03:53:51  2017-06-21 23:29:01  \n",
       "8   2017-06-22 10:47:19  2017-06-22 08:51:30  \n",
       "9   2017-06-22 14:17:46  2017-06-22 13:49:44  \n",
       "12  2017-06-22 16:47:41  2017-06-22 15:48:39  "
      ]
     },
     "execution_count": 2,
     "metadata": {},
     "output_type": "execute_result"
    }
   ],
   "source": [
    "df = pd.read_csv('data/incidentes-viales-c5-limpio.csv', sep=\"$\", index_col=0)\n",
    "df.head()"
   ]
  },
  {
   "cell_type": "code",
   "execution_count": 3,
   "metadata": {},
   "outputs": [
    {
     "data": {
      "text/plain": [
       "(369280, 12)"
      ]
     },
     "execution_count": 3,
     "metadata": {},
     "output_type": "execute_result"
    }
   ],
   "source": [
    "df.shape"
   ]
  },
  {
   "cell_type": "code",
   "execution_count": 6,
   "metadata": {},
   "outputs": [],
   "source": [
    "diccionario_de_conversion = {\n",
    "    'codigo_cierre': 'category',\n",
    "    'fecha_hora_creacion': 'datetime64[ns]',\n",
    "    'fecha_hora_cierre': 'datetime64[ns]', \n",
    "    'delegacion_inicio': 'category',\n",
    "    'incidente_c4': 'category', \n",
    "    'clas_con_f_alarma': 'category', \n",
    "    'tipo_entrada': 'category',\n",
    "    'delegacion_cierre':'category',\n",
    "    'mes':'category'\n",
    "}\n",
    "df = df.astype(diccionario_de_conversion)"
   ]
  },
  {
   "cell_type": "code",
   "execution_count": 7,
   "metadata": {
    "scrolled": true
   },
   "outputs": [
    {
     "data": {
      "text/html": [
       "<div>\n",
       "<style scoped>\n",
       "    .dataframe tbody tr th:only-of-type {\n",
       "        vertical-align: middle;\n",
       "    }\n",
       "\n",
       "    .dataframe tbody tr th {\n",
       "        vertical-align: top;\n",
       "    }\n",
       "\n",
       "    .dataframe thead th {\n",
       "        text-align: right;\n",
       "    }\n",
       "</style>\n",
       "<table border=\"1\" class=\"dataframe\">\n",
       "  <thead>\n",
       "    <tr style=\"text-align: right;\">\n",
       "      <th></th>\n",
       "      <th>latitud</th>\n",
       "      <th>longitud</th>\n",
       "    </tr>\n",
       "  </thead>\n",
       "  <tbody>\n",
       "    <tr>\n",
       "      <th>count</th>\n",
       "      <td>369280.000000</td>\n",
       "      <td>369280.000000</td>\n",
       "    </tr>\n",
       "    <tr>\n",
       "      <th>mean</th>\n",
       "      <td>19.382307</td>\n",
       "      <td>-99.137894</td>\n",
       "    </tr>\n",
       "    <tr>\n",
       "      <th>std</th>\n",
       "      <td>0.069267</td>\n",
       "      <td>0.062467</td>\n",
       "    </tr>\n",
       "    <tr>\n",
       "      <th>min</th>\n",
       "      <td>19.095427</td>\n",
       "      <td>-99.370561</td>\n",
       "    </tr>\n",
       "    <tr>\n",
       "      <th>25%</th>\n",
       "      <td>19.335590</td>\n",
       "      <td>-99.180590</td>\n",
       "    </tr>\n",
       "    <tr>\n",
       "      <th>50%</th>\n",
       "      <td>19.383290</td>\n",
       "      <td>-99.141057</td>\n",
       "    </tr>\n",
       "    <tr>\n",
       "      <th>75%</th>\n",
       "      <td>19.433160</td>\n",
       "      <td>-99.096370</td>\n",
       "    </tr>\n",
       "    <tr>\n",
       "      <th>max</th>\n",
       "      <td>19.579320</td>\n",
       "      <td>-98.945370</td>\n",
       "    </tr>\n",
       "  </tbody>\n",
       "</table>\n",
       "</div>"
      ],
      "text/plain": [
       "             latitud       longitud\n",
       "count  369280.000000  369280.000000\n",
       "mean       19.382307     -99.137894\n",
       "std         0.069267       0.062467\n",
       "min        19.095427     -99.370561\n",
       "25%        19.335590     -99.180590\n",
       "50%        19.383290     -99.141057\n",
       "75%        19.433160     -99.096370\n",
       "max        19.579320     -98.945370"
      ]
     },
     "execution_count": 7,
     "metadata": {},
     "output_type": "execute_result"
    }
   ],
   "source": [
    "df.describe()"
   ]
  },
  {
   "cell_type": "markdown",
   "metadata": {},
   "source": [
    "# 1. Tiempo de Atención\n",
    "\n",
    "Se creó la columna \"tiempo_atencion\" que contiene el tiempo en horas (decimal) que transcurrió entre la creación del reporte y su cierre. "
   ]
  },
  {
   "cell_type": "code",
   "execution_count": 8,
   "metadata": {
    "scrolled": true
   },
   "outputs": [
    {
     "data": {
      "text/html": [
       "<div>\n",
       "<style scoped>\n",
       "    .dataframe tbody tr th:only-of-type {\n",
       "        vertical-align: middle;\n",
       "    }\n",
       "\n",
       "    .dataframe tbody tr th {\n",
       "        vertical-align: top;\n",
       "    }\n",
       "\n",
       "    .dataframe thead th {\n",
       "        text-align: right;\n",
       "    }\n",
       "</style>\n",
       "<table border=\"1\" class=\"dataframe\">\n",
       "  <thead>\n",
       "    <tr style=\"text-align: right;\">\n",
       "      <th></th>\n",
       "      <th>folio</th>\n",
       "      <th>codigo_cierre</th>\n",
       "      <th>delegacion_inicio</th>\n",
       "      <th>incidente_c4</th>\n",
       "      <th>latitud</th>\n",
       "      <th>longitud</th>\n",
       "      <th>clas_con_f_alarma</th>\n",
       "      <th>tipo_entrada</th>\n",
       "      <th>delegacion_cierre</th>\n",
       "      <th>mes</th>\n",
       "      <th>fecha_hora_cierre</th>\n",
       "      <th>fecha_hora_creacion</th>\n",
       "      <th>tiempo_atencion</th>\n",
       "    </tr>\n",
       "  </thead>\n",
       "  <tbody>\n",
       "    <tr>\n",
       "      <th>2</th>\n",
       "      <td>C5/170622/03715</td>\n",
       "      <td>(N) La unidad de atención a emergencias fue de...</td>\n",
       "      <td>VENUSTIANO CARRANZA</td>\n",
       "      <td>accidente-choque sin lesionados</td>\n",
       "      <td>19.43053</td>\n",
       "      <td>-99.05260</td>\n",
       "      <td>EMERGENCIA</td>\n",
       "      <td>LLAMADA DEL 911</td>\n",
       "      <td>VENUSTIANO CARRANZA</td>\n",
       "      <td>6</td>\n",
       "      <td>2017-06-22 16:48:07</td>\n",
       "      <td>2017-06-22 13:44:52</td>\n",
       "      <td>3.054167</td>\n",
       "    </tr>\n",
       "    <tr>\n",
       "      <th>5</th>\n",
       "      <td>C5/170621/07339</td>\n",
       "      <td>(A) La unidad de atención a emergencias fue de...</td>\n",
       "      <td>IZTAPALAPA</td>\n",
       "      <td>accidente-choque sin lesionados</td>\n",
       "      <td>19.38676</td>\n",
       "      <td>-99.03350</td>\n",
       "      <td>EMERGENCIA</td>\n",
       "      <td>LLAMADA DEL 911</td>\n",
       "      <td>IZTAPALAPA</td>\n",
       "      <td>6</td>\n",
       "      <td>2017-06-22 03:53:51</td>\n",
       "      <td>2017-06-21 23:29:01</td>\n",
       "      <td>4.413889</td>\n",
       "    </tr>\n",
       "    <tr>\n",
       "      <th>8</th>\n",
       "      <td>C5/170622/01694</td>\n",
       "      <td>(N) La unidad de atención a emergencias fue de...</td>\n",
       "      <td>IZTAPALAPA</td>\n",
       "      <td>accidente-choque sin lesionados</td>\n",
       "      <td>19.35017</td>\n",
       "      <td>-99.07324</td>\n",
       "      <td>EMERGENCIA</td>\n",
       "      <td>LLAMADA DEL 911</td>\n",
       "      <td>IZTAPALAPA</td>\n",
       "      <td>6</td>\n",
       "      <td>2017-06-22 10:47:19</td>\n",
       "      <td>2017-06-22 08:51:30</td>\n",
       "      <td>1.930278</td>\n",
       "    </tr>\n",
       "    <tr>\n",
       "      <th>9</th>\n",
       "      <td>C5/170622/03779</td>\n",
       "      <td>(N) La unidad de atención a emergencias fue de...</td>\n",
       "      <td>CUAJIMALPA</td>\n",
       "      <td>accidente-choque sin lesionados</td>\n",
       "      <td>19.37273</td>\n",
       "      <td>-99.27753</td>\n",
       "      <td>EMERGENCIA</td>\n",
       "      <td>LLAMADA DEL 911</td>\n",
       "      <td>CUAJIMALPA</td>\n",
       "      <td>6</td>\n",
       "      <td>2017-06-22 14:17:46</td>\n",
       "      <td>2017-06-22 13:49:44</td>\n",
       "      <td>0.467222</td>\n",
       "    </tr>\n",
       "    <tr>\n",
       "      <th>12</th>\n",
       "      <td>C5/170622/04693</td>\n",
       "      <td>(N) La unidad de atención a emergencias fue de...</td>\n",
       "      <td>MIGUEL HIDALGO</td>\n",
       "      <td>accidente-choque sin lesionados</td>\n",
       "      <td>19.45316</td>\n",
       "      <td>-99.19868</td>\n",
       "      <td>EMERGENCIA</td>\n",
       "      <td>LLAMADA DEL 911</td>\n",
       "      <td>MIGUEL HIDALGO</td>\n",
       "      <td>6</td>\n",
       "      <td>2017-06-22 16:47:41</td>\n",
       "      <td>2017-06-22 15:48:39</td>\n",
       "      <td>0.983889</td>\n",
       "    </tr>\n",
       "  </tbody>\n",
       "</table>\n",
       "</div>"
      ],
      "text/plain": [
       "              folio                                      codigo_cierre  \\\n",
       "2   C5/170622/03715  (N) La unidad de atención a emergencias fue de...   \n",
       "5   C5/170621/07339  (A) La unidad de atención a emergencias fue de...   \n",
       "8   C5/170622/01694  (N) La unidad de atención a emergencias fue de...   \n",
       "9   C5/170622/03779  (N) La unidad de atención a emergencias fue de...   \n",
       "12  C5/170622/04693  (N) La unidad de atención a emergencias fue de...   \n",
       "\n",
       "      delegacion_inicio                     incidente_c4   latitud  longitud  \\\n",
       "2   VENUSTIANO CARRANZA  accidente-choque sin lesionados  19.43053 -99.05260   \n",
       "5            IZTAPALAPA  accidente-choque sin lesionados  19.38676 -99.03350   \n",
       "8            IZTAPALAPA  accidente-choque sin lesionados  19.35017 -99.07324   \n",
       "9            CUAJIMALPA  accidente-choque sin lesionados  19.37273 -99.27753   \n",
       "12       MIGUEL HIDALGO  accidente-choque sin lesionados  19.45316 -99.19868   \n",
       "\n",
       "   clas_con_f_alarma     tipo_entrada    delegacion_cierre mes  \\\n",
       "2         EMERGENCIA  LLAMADA DEL 911  VENUSTIANO CARRANZA   6   \n",
       "5         EMERGENCIA  LLAMADA DEL 911           IZTAPALAPA   6   \n",
       "8         EMERGENCIA  LLAMADA DEL 911           IZTAPALAPA   6   \n",
       "9         EMERGENCIA  LLAMADA DEL 911           CUAJIMALPA   6   \n",
       "12        EMERGENCIA  LLAMADA DEL 911       MIGUEL HIDALGO   6   \n",
       "\n",
       "     fecha_hora_cierre fecha_hora_creacion  tiempo_atencion  \n",
       "2  2017-06-22 16:48:07 2017-06-22 13:44:52         3.054167  \n",
       "5  2017-06-22 03:53:51 2017-06-21 23:29:01         4.413889  \n",
       "8  2017-06-22 10:47:19 2017-06-22 08:51:30         1.930278  \n",
       "9  2017-06-22 14:17:46 2017-06-22 13:49:44         0.467222  \n",
       "12 2017-06-22 16:47:41 2017-06-22 15:48:39         0.983889  "
      ]
     },
     "execution_count": 8,
     "metadata": {},
     "output_type": "execute_result"
    }
   ],
   "source": [
    "df['tiempo_atencion'] = (df['fecha_hora_cierre'] - df['fecha_hora_creacion']) / dt.timedelta(hours=1)\n",
    "df.head()"
   ]
  },
  {
   "cell_type": "markdown",
   "metadata": {},
   "source": [
    "## 1.1. Limpieza\n",
    "\n",
    "Se encontrarón valores de tiempo de atención negativos. Lo cuál es evidentemente un error, puesto que significaría que el reporte de incidente fue cerrado antes de que se creara. "
   ]
  },
  {
   "cell_type": "code",
   "execution_count": 10,
   "metadata": {
    "scrolled": true
   },
   "outputs": [
    {
     "name": "stdout",
     "output_type": "stream",
     "text": [
      "Hay 1922 datos con tiempo de atención negativo\n"
     ]
    }
   ],
   "source": [
    "df_backup = df.copy()\n",
    "print(f\"Hay {df[df['tiempo_atencion'] < 0].shape[0]} datos con tiempo de atención negativo\")"
   ]
  },
  {
   "cell_type": "code",
   "execution_count": 12,
   "metadata": {},
   "outputs": [
    {
     "data": {
      "text/html": [
       "<div>\n",
       "<style scoped>\n",
       "    .dataframe tbody tr th:only-of-type {\n",
       "        vertical-align: middle;\n",
       "    }\n",
       "\n",
       "    .dataframe tbody tr th {\n",
       "        vertical-align: top;\n",
       "    }\n",
       "\n",
       "    .dataframe thead th {\n",
       "        text-align: right;\n",
       "    }\n",
       "</style>\n",
       "<table border=\"1\" class=\"dataframe\">\n",
       "  <thead>\n",
       "    <tr style=\"text-align: right;\">\n",
       "      <th></th>\n",
       "      <th>fecha_hora_cierre</th>\n",
       "      <th>fecha_hora_creacion</th>\n",
       "      <th>tiempo_atencion</th>\n",
       "    </tr>\n",
       "  </thead>\n",
       "  <tbody>\n",
       "    <tr>\n",
       "      <th>1558</th>\n",
       "      <td>2017-01-07 01:16:27</td>\n",
       "      <td>2017-06-30 21:20:01</td>\n",
       "      <td>-4196.059444</td>\n",
       "    </tr>\n",
       "    <tr>\n",
       "      <th>1572</th>\n",
       "      <td>2017-01-07 07:30:12</td>\n",
       "      <td>2017-06-30 21:50:57</td>\n",
       "      <td>-4190.345833</td>\n",
       "    </tr>\n",
       "    <tr>\n",
       "      <th>1583</th>\n",
       "      <td>2017-01-07 00:21:41</td>\n",
       "      <td>2017-06-30 22:04:54</td>\n",
       "      <td>-4197.720278</td>\n",
       "    </tr>\n",
       "    <tr>\n",
       "      <th>1586</th>\n",
       "      <td>2017-01-07 00:30:19</td>\n",
       "      <td>2017-06-30 22:50:41</td>\n",
       "      <td>-4198.339444</td>\n",
       "    </tr>\n",
       "    <tr>\n",
       "      <th>1596</th>\n",
       "      <td>2017-01-07 04:41:22</td>\n",
       "      <td>2017-06-30 22:12:23</td>\n",
       "      <td>-4193.516944</td>\n",
       "    </tr>\n",
       "    <tr>\n",
       "      <th>...</th>\n",
       "      <td>...</td>\n",
       "      <td>...</td>\n",
       "      <td>...</td>\n",
       "    </tr>\n",
       "    <tr>\n",
       "      <th>685919</th>\n",
       "      <td>2021-02-13 03:02:14</td>\n",
       "      <td>2021-12-02 23:50:32</td>\n",
       "      <td>-7028.805000</td>\n",
       "    </tr>\n",
       "    <tr>\n",
       "      <th>685920</th>\n",
       "      <td>2021-02-13 03:02:03</td>\n",
       "      <td>2021-12-02 23:57:47</td>\n",
       "      <td>-7028.928889</td>\n",
       "    </tr>\n",
       "    <tr>\n",
       "      <th>685921</th>\n",
       "      <td>2021-02-13 00:11:33</td>\n",
       "      <td>2021-12-02 21:07:37</td>\n",
       "      <td>-7028.934444</td>\n",
       "    </tr>\n",
       "    <tr>\n",
       "      <th>685922</th>\n",
       "      <td>2021-02-13 00:29:36</td>\n",
       "      <td>2021-12-02 22:23:19</td>\n",
       "      <td>-7029.895278</td>\n",
       "    </tr>\n",
       "    <tr>\n",
       "      <th>685923</th>\n",
       "      <td>2021-02-23 19:47:02</td>\n",
       "      <td>2021-12-02 09:10:30</td>\n",
       "      <td>-6757.391111</td>\n",
       "    </tr>\n",
       "  </tbody>\n",
       "</table>\n",
       "<p>1922 rows × 3 columns</p>\n",
       "</div>"
      ],
      "text/plain": [
       "         fecha_hora_cierre fecha_hora_creacion  tiempo_atencion\n",
       "1558   2017-01-07 01:16:27 2017-06-30 21:20:01     -4196.059444\n",
       "1572   2017-01-07 07:30:12 2017-06-30 21:50:57     -4190.345833\n",
       "1583   2017-01-07 00:21:41 2017-06-30 22:04:54     -4197.720278\n",
       "1586   2017-01-07 00:30:19 2017-06-30 22:50:41     -4198.339444\n",
       "1596   2017-01-07 04:41:22 2017-06-30 22:12:23     -4193.516944\n",
       "...                    ...                 ...              ...\n",
       "685919 2021-02-13 03:02:14 2021-12-02 23:50:32     -7028.805000\n",
       "685920 2021-02-13 03:02:03 2021-12-02 23:57:47     -7028.928889\n",
       "685921 2021-02-13 00:11:33 2021-12-02 21:07:37     -7028.934444\n",
       "685922 2021-02-13 00:29:36 2021-12-02 22:23:19     -7029.895278\n",
       "685923 2021-02-23 19:47:02 2021-12-02 09:10:30     -6757.391111\n",
       "\n",
       "[1922 rows x 3 columns]"
      ]
     },
     "execution_count": 12,
     "metadata": {},
     "output_type": "execute_result"
    }
   ],
   "source": [
    "wrong_data = df.copy()\n",
    "wrong_data = wrong_data[wrong_data['tiempo_atencion']<0]\n",
    "wrong_data[['fecha_hora_cierre', 'fecha_hora_creacion', 'tiempo_atencion']]"
   ]
  },
  {
   "cell_type": "markdown",
   "metadata": {},
   "source": [
    "Estos datos aparecen porque para ciertos valores de las columnas \"fecha_hora_cierre\" y \"fecha_hora_creación\" no se respeta el formato \"AAAA-MM-DD\" provocando ambigüedad en las fechas reportadas. Por ejemplo, el reporte con índice 1558\n",
    "dice haber sido levantado el día 30 de junio del 2017 pero su fecha de cierre es 07 de enero del 2017 (una fecha anterior), sin embargo, al invertir el mes y día de la fecha de cierre, sería 01 de julio del 2017, lo cual hace más sentido. "
   ]
  },
  {
   "cell_type": "markdown",
   "metadata": {},
   "source": [
    "Para resolverlo, se corrigen las fechas mal escritas en la columna \"fecha_hora_creacion\":"
   ]
  },
  {
   "cell_type": "code",
   "execution_count": 13,
   "metadata": {},
   "outputs": [
    {
     "data": {
      "text/html": [
       "<div>\n",
       "<style scoped>\n",
       "    .dataframe tbody tr th:only-of-type {\n",
       "        vertical-align: middle;\n",
       "    }\n",
       "\n",
       "    .dataframe tbody tr th {\n",
       "        vertical-align: top;\n",
       "    }\n",
       "\n",
       "    .dataframe thead th {\n",
       "        text-align: right;\n",
       "    }\n",
       "</style>\n",
       "<table border=\"1\" class=\"dataframe\">\n",
       "  <thead>\n",
       "    <tr style=\"text-align: right;\">\n",
       "      <th></th>\n",
       "      <th>fecha_hora_cierre</th>\n",
       "      <th>fecha_hora_creacion</th>\n",
       "      <th>tiempo_atencion</th>\n",
       "    </tr>\n",
       "  </thead>\n",
       "  <tbody>\n",
       "    <tr>\n",
       "      <th>2389</th>\n",
       "      <td>2017-06-13 00:40:18</td>\n",
       "      <td>2017-12-06 22:39:42</td>\n",
       "      <td>-4245.990000</td>\n",
       "    </tr>\n",
       "    <tr>\n",
       "      <th>2394</th>\n",
       "      <td>2017-06-13 06:02:22</td>\n",
       "      <td>2017-12-06 23:24:58</td>\n",
       "      <td>-4241.376667</td>\n",
       "    </tr>\n",
       "    <tr>\n",
       "      <th>2450</th>\n",
       "      <td>2017-06-13 02:00:42</td>\n",
       "      <td>2017-12-06 23:37:22</td>\n",
       "      <td>-4245.611111</td>\n",
       "    </tr>\n",
       "    <tr>\n",
       "      <th>2480</th>\n",
       "      <td>2017-06-13 04:15:43</td>\n",
       "      <td>2017-12-06 21:34:35</td>\n",
       "      <td>-4241.314444</td>\n",
       "    </tr>\n",
       "    <tr>\n",
       "      <th>2503</th>\n",
       "      <td>2017-06-13 02:20:30</td>\n",
       "      <td>2017-12-06 23:24:30</td>\n",
       "      <td>-4245.066667</td>\n",
       "    </tr>\n",
       "    <tr>\n",
       "      <th>...</th>\n",
       "      <td>...</td>\n",
       "      <td>...</td>\n",
       "      <td>...</td>\n",
       "    </tr>\n",
       "    <tr>\n",
       "      <th>685919</th>\n",
       "      <td>2021-02-13 03:02:14</td>\n",
       "      <td>2021-12-02 23:50:32</td>\n",
       "      <td>-7028.805000</td>\n",
       "    </tr>\n",
       "    <tr>\n",
       "      <th>685920</th>\n",
       "      <td>2021-02-13 03:02:03</td>\n",
       "      <td>2021-12-02 23:57:47</td>\n",
       "      <td>-7028.928889</td>\n",
       "    </tr>\n",
       "    <tr>\n",
       "      <th>685921</th>\n",
       "      <td>2021-02-13 00:11:33</td>\n",
       "      <td>2021-12-02 21:07:37</td>\n",
       "      <td>-7028.934444</td>\n",
       "    </tr>\n",
       "    <tr>\n",
       "      <th>685922</th>\n",
       "      <td>2021-02-13 00:29:36</td>\n",
       "      <td>2021-12-02 22:23:19</td>\n",
       "      <td>-7029.895278</td>\n",
       "    </tr>\n",
       "    <tr>\n",
       "      <th>685923</th>\n",
       "      <td>2021-02-23 19:47:02</td>\n",
       "      <td>2021-12-02 09:10:30</td>\n",
       "      <td>-6757.391111</td>\n",
       "    </tr>\n",
       "  </tbody>\n",
       "</table>\n",
       "<p>982 rows × 3 columns</p>\n",
       "</div>"
      ],
      "text/plain": [
       "         fecha_hora_cierre fecha_hora_creacion  tiempo_atencion\n",
       "2389   2017-06-13 00:40:18 2017-12-06 22:39:42     -4245.990000\n",
       "2394   2017-06-13 06:02:22 2017-12-06 23:24:58     -4241.376667\n",
       "2450   2017-06-13 02:00:42 2017-12-06 23:37:22     -4245.611111\n",
       "2480   2017-06-13 04:15:43 2017-12-06 21:34:35     -4241.314444\n",
       "2503   2017-06-13 02:20:30 2017-12-06 23:24:30     -4245.066667\n",
       "...                    ...                 ...              ...\n",
       "685919 2021-02-13 03:02:14 2021-12-02 23:50:32     -7028.805000\n",
       "685920 2021-02-13 03:02:03 2021-12-02 23:57:47     -7028.928889\n",
       "685921 2021-02-13 00:11:33 2021-12-02 21:07:37     -7028.934444\n",
       "685922 2021-02-13 00:29:36 2021-12-02 22:23:19     -7029.895278\n",
       "685923 2021-02-23 19:47:02 2021-12-02 09:10:30     -6757.391111\n",
       "\n",
       "[982 rows x 3 columns]"
      ]
     },
     "execution_count": 13,
     "metadata": {},
     "output_type": "execute_result"
    }
   ],
   "source": [
    "# Condicion 1, Día y mes de creación invertidos en fecha_hora_creacion\n",
    "c1 = (wrong_data.fecha_hora_cierre.dt.day >= 12) & (wrong_data.fecha_hora_cierre.dt.month == wrong_data.fecha_hora_creacion.dt.day)\n",
    "wd_c1 = wrong_data[c1]\n",
    "wd_c1[['fecha_hora_cierre', 'fecha_hora_creacion', 'tiempo_atencion']]"
   ]
  },
  {
   "cell_type": "code",
   "execution_count": 14,
   "metadata": {
    "scrolled": true
   },
   "outputs": [
    {
     "name": "stderr",
     "output_type": "stream",
     "text": [
      "<ipython-input-14-6692366cff53>:2: SettingWithCopyWarning: \n",
      "A value is trying to be set on a copy of a slice from a DataFrame.\n",
      "Try using .loc[row_indexer,col_indexer] = value instead\n",
      "\n",
      "See the caveats in the documentation: https://pandas.pydata.org/pandas-docs/stable/user_guide/indexing.html#returning-a-view-versus-a-copy\n",
      "  wd_c1['fecha_hora_creacion'] = wd_c1['fecha_hora_creacion'].apply(lambda x: dt.datetime.strftime(x, '%Y-%d-%m %H:%M:%S'))\n",
      "<ipython-input-14-6692366cff53>:3: SettingWithCopyWarning: \n",
      "A value is trying to be set on a copy of a slice from a DataFrame.\n",
      "Try using .loc[row_indexer,col_indexer] = value instead\n",
      "\n",
      "See the caveats in the documentation: https://pandas.pydata.org/pandas-docs/stable/user_guide/indexing.html#returning-a-view-versus-a-copy\n",
      "  wd_c1['fecha_hora_creacion'] = pd.to_datetime(wd_c1['fecha_hora_creacion'])\n",
      "<ipython-input-14-6692366cff53>:4: SettingWithCopyWarning: \n",
      "A value is trying to be set on a copy of a slice from a DataFrame.\n",
      "Try using .loc[row_indexer,col_indexer] = value instead\n",
      "\n",
      "See the caveats in the documentation: https://pandas.pydata.org/pandas-docs/stable/user_guide/indexing.html#returning-a-view-versus-a-copy\n",
      "  wd_c1['tiempo_atencion'] = (wd_c1['fecha_hora_cierre'] - wd_c1['fecha_hora_creacion']) / dt.timedelta(hours=1)\n"
     ]
    },
    {
     "data": {
      "text/html": [
       "<div>\n",
       "<style scoped>\n",
       "    .dataframe tbody tr th:only-of-type {\n",
       "        vertical-align: middle;\n",
       "    }\n",
       "\n",
       "    .dataframe tbody tr th {\n",
       "        vertical-align: top;\n",
       "    }\n",
       "\n",
       "    .dataframe thead th {\n",
       "        text-align: right;\n",
       "    }\n",
       "</style>\n",
       "<table border=\"1\" class=\"dataframe\">\n",
       "  <thead>\n",
       "    <tr style=\"text-align: right;\">\n",
       "      <th></th>\n",
       "      <th>fecha_hora_cierre</th>\n",
       "      <th>fecha_hora_creacion</th>\n",
       "      <th>tiempo_atencion</th>\n",
       "    </tr>\n",
       "  </thead>\n",
       "  <tbody>\n",
       "    <tr>\n",
       "      <th>2389</th>\n",
       "      <td>2017-06-13 00:40:18</td>\n",
       "      <td>2017-06-12 22:39:42</td>\n",
       "      <td>2.010000</td>\n",
       "    </tr>\n",
       "    <tr>\n",
       "      <th>2394</th>\n",
       "      <td>2017-06-13 06:02:22</td>\n",
       "      <td>2017-06-12 23:24:58</td>\n",
       "      <td>6.623333</td>\n",
       "    </tr>\n",
       "    <tr>\n",
       "      <th>2450</th>\n",
       "      <td>2017-06-13 02:00:42</td>\n",
       "      <td>2017-06-12 23:37:22</td>\n",
       "      <td>2.388889</td>\n",
       "    </tr>\n",
       "    <tr>\n",
       "      <th>2480</th>\n",
       "      <td>2017-06-13 04:15:43</td>\n",
       "      <td>2017-06-12 21:34:35</td>\n",
       "      <td>6.685556</td>\n",
       "    </tr>\n",
       "    <tr>\n",
       "      <th>2503</th>\n",
       "      <td>2017-06-13 02:20:30</td>\n",
       "      <td>2017-06-12 23:24:30</td>\n",
       "      <td>2.933333</td>\n",
       "    </tr>\n",
       "    <tr>\n",
       "      <th>...</th>\n",
       "      <td>...</td>\n",
       "      <td>...</td>\n",
       "      <td>...</td>\n",
       "    </tr>\n",
       "    <tr>\n",
       "      <th>685919</th>\n",
       "      <td>2021-02-13 03:02:14</td>\n",
       "      <td>2021-02-12 23:50:32</td>\n",
       "      <td>3.195000</td>\n",
       "    </tr>\n",
       "    <tr>\n",
       "      <th>685920</th>\n",
       "      <td>2021-02-13 03:02:03</td>\n",
       "      <td>2021-02-12 23:57:47</td>\n",
       "      <td>3.071111</td>\n",
       "    </tr>\n",
       "    <tr>\n",
       "      <th>685921</th>\n",
       "      <td>2021-02-13 00:11:33</td>\n",
       "      <td>2021-02-12 21:07:37</td>\n",
       "      <td>3.065556</td>\n",
       "    </tr>\n",
       "    <tr>\n",
       "      <th>685922</th>\n",
       "      <td>2021-02-13 00:29:36</td>\n",
       "      <td>2021-02-12 22:23:19</td>\n",
       "      <td>2.104722</td>\n",
       "    </tr>\n",
       "    <tr>\n",
       "      <th>685923</th>\n",
       "      <td>2021-02-23 19:47:02</td>\n",
       "      <td>2021-02-12 09:10:30</td>\n",
       "      <td>274.608889</td>\n",
       "    </tr>\n",
       "  </tbody>\n",
       "</table>\n",
       "<p>982 rows × 3 columns</p>\n",
       "</div>"
      ],
      "text/plain": [
       "         fecha_hora_cierre fecha_hora_creacion  tiempo_atencion\n",
       "2389   2017-06-13 00:40:18 2017-06-12 22:39:42         2.010000\n",
       "2394   2017-06-13 06:02:22 2017-06-12 23:24:58         6.623333\n",
       "2450   2017-06-13 02:00:42 2017-06-12 23:37:22         2.388889\n",
       "2480   2017-06-13 04:15:43 2017-06-12 21:34:35         6.685556\n",
       "2503   2017-06-13 02:20:30 2017-06-12 23:24:30         2.933333\n",
       "...                    ...                 ...              ...\n",
       "685919 2021-02-13 03:02:14 2021-02-12 23:50:32         3.195000\n",
       "685920 2021-02-13 03:02:03 2021-02-12 23:57:47         3.071111\n",
       "685921 2021-02-13 00:11:33 2021-02-12 21:07:37         3.065556\n",
       "685922 2021-02-13 00:29:36 2021-02-12 22:23:19         2.104722\n",
       "685923 2021-02-23 19:47:02 2021-02-12 09:10:30       274.608889\n",
       "\n",
       "[982 rows x 3 columns]"
      ]
     },
     "execution_count": 14,
     "metadata": {},
     "output_type": "execute_result"
    }
   ],
   "source": [
    "# 982 de 1922 datos\n",
    "wd_c1['fecha_hora_creacion'] = wd_c1['fecha_hora_creacion'].apply(lambda x: dt.datetime.strftime(x, '%Y-%d-%m %H:%M:%S'))\n",
    "wd_c1['fecha_hora_creacion'] = pd.to_datetime(wd_c1['fecha_hora_creacion'])\n",
    "wd_c1['tiempo_atencion'] = (wd_c1['fecha_hora_cierre'] - wd_c1['fecha_hora_creacion']) / dt.timedelta(hours=1)\n",
    "df.loc[wd_c1.index] = wd_c1\n",
    "df.loc[wd_c1.index][['fecha_hora_cierre', 'fecha_hora_creacion', 'tiempo_atencion']]"
   ]
  },
  {
   "cell_type": "markdown",
   "metadata": {},
   "source": [
    "A continuacion las fechas de cierre mal escritas que se abrieron en un mes y se cerraron al siguiente"
   ]
  },
  {
   "cell_type": "code",
   "execution_count": 15,
   "metadata": {},
   "outputs": [
    {
     "data": {
      "text/html": [
       "<div>\n",
       "<style scoped>\n",
       "    .dataframe tbody tr th:only-of-type {\n",
       "        vertical-align: middle;\n",
       "    }\n",
       "\n",
       "    .dataframe tbody tr th {\n",
       "        vertical-align: top;\n",
       "    }\n",
       "\n",
       "    .dataframe thead th {\n",
       "        text-align: right;\n",
       "    }\n",
       "</style>\n",
       "<table border=\"1\" class=\"dataframe\">\n",
       "  <thead>\n",
       "    <tr style=\"text-align: right;\">\n",
       "      <th></th>\n",
       "      <th>fecha_hora_cierre</th>\n",
       "      <th>fecha_hora_creacion</th>\n",
       "      <th>tiempo_atencion</th>\n",
       "    </tr>\n",
       "  </thead>\n",
       "  <tbody>\n",
       "    <tr>\n",
       "      <th>1558</th>\n",
       "      <td>2017-01-07 01:16:27</td>\n",
       "      <td>2017-06-30 21:20:01</td>\n",
       "      <td>-4196.059444</td>\n",
       "    </tr>\n",
       "    <tr>\n",
       "      <th>1572</th>\n",
       "      <td>2017-01-07 07:30:12</td>\n",
       "      <td>2017-06-30 21:50:57</td>\n",
       "      <td>-4190.345833</td>\n",
       "    </tr>\n",
       "    <tr>\n",
       "      <th>1583</th>\n",
       "      <td>2017-01-07 00:21:41</td>\n",
       "      <td>2017-06-30 22:04:54</td>\n",
       "      <td>-4197.720278</td>\n",
       "    </tr>\n",
       "    <tr>\n",
       "      <th>1586</th>\n",
       "      <td>2017-01-07 00:30:19</td>\n",
       "      <td>2017-06-30 22:50:41</td>\n",
       "      <td>-4198.339444</td>\n",
       "    </tr>\n",
       "    <tr>\n",
       "      <th>1596</th>\n",
       "      <td>2017-01-07 04:41:22</td>\n",
       "      <td>2017-06-30 22:12:23</td>\n",
       "      <td>-4193.516944</td>\n",
       "    </tr>\n",
       "    <tr>\n",
       "      <th>...</th>\n",
       "      <td>...</td>\n",
       "      <td>...</td>\n",
       "      <td>...</td>\n",
       "    </tr>\n",
       "    <tr>\n",
       "      <th>680767</th>\n",
       "      <td>2021-01-02 00:16:24</td>\n",
       "      <td>2021-01-31 23:09:56</td>\n",
       "      <td>-718.892222</td>\n",
       "    </tr>\n",
       "    <tr>\n",
       "      <th>680769</th>\n",
       "      <td>2021-01-02 00:02:56</td>\n",
       "      <td>2021-01-31 23:20:38</td>\n",
       "      <td>-719.295000</td>\n",
       "    </tr>\n",
       "    <tr>\n",
       "      <th>680770</th>\n",
       "      <td>2021-01-02 02:21:40</td>\n",
       "      <td>2021-01-31 23:30:34</td>\n",
       "      <td>-717.148333</td>\n",
       "    </tr>\n",
       "    <tr>\n",
       "      <th>680771</th>\n",
       "      <td>2021-01-02 05:05:36</td>\n",
       "      <td>2021-01-31 23:37:20</td>\n",
       "      <td>-714.528889</td>\n",
       "    </tr>\n",
       "    <tr>\n",
       "      <th>680774</th>\n",
       "      <td>2021-01-02 05:45:38</td>\n",
       "      <td>2021-01-31 23:50:23</td>\n",
       "      <td>-714.079167</td>\n",
       "    </tr>\n",
       "  </tbody>\n",
       "</table>\n",
       "<p>933 rows × 3 columns</p>\n",
       "</div>"
      ],
      "text/plain": [
       "         fecha_hora_cierre fecha_hora_creacion  tiempo_atencion\n",
       "1558   2017-01-07 01:16:27 2017-06-30 21:20:01     -4196.059444\n",
       "1572   2017-01-07 07:30:12 2017-06-30 21:50:57     -4190.345833\n",
       "1583   2017-01-07 00:21:41 2017-06-30 22:04:54     -4197.720278\n",
       "1586   2017-01-07 00:30:19 2017-06-30 22:50:41     -4198.339444\n",
       "1596   2017-01-07 04:41:22 2017-06-30 22:12:23     -4193.516944\n",
       "...                    ...                 ...              ...\n",
       "680767 2021-01-02 00:16:24 2021-01-31 23:09:56      -718.892222\n",
       "680769 2021-01-02 00:02:56 2021-01-31 23:20:38      -719.295000\n",
       "680770 2021-01-02 02:21:40 2021-01-31 23:30:34      -717.148333\n",
       "680771 2021-01-02 05:05:36 2021-01-31 23:37:20      -714.528889\n",
       "680774 2021-01-02 05:45:38 2021-01-31 23:50:23      -714.079167\n",
       "\n",
       "[933 rows x 3 columns]"
      ]
     },
     "execution_count": 15,
     "metadata": {},
     "output_type": "execute_result"
    }
   ],
   "source": [
    "# Correction of 'fecha_hora_cierre' en la frontera superior del mes\n",
    "c3 = (wrong_data.fecha_hora_creacion.dt.day >= 12) & (wrong_data.fecha_hora_creacion.dt.month == wrong_data.fecha_hora_cierre.dt.day-1)\n",
    "wd_c3 = wrong_data[c3]\n",
    "wd_c3[['fecha_hora_cierre', 'fecha_hora_creacion', 'tiempo_atencion']]"
   ]
  },
  {
   "cell_type": "code",
   "execution_count": 17,
   "metadata": {},
   "outputs": [
    {
     "name": "stderr",
     "output_type": "stream",
     "text": [
      "<ipython-input-17-228895b02313>:2: SettingWithCopyWarning: \n",
      "A value is trying to be set on a copy of a slice from a DataFrame.\n",
      "Try using .loc[row_indexer,col_indexer] = value instead\n",
      "\n",
      "See the caveats in the documentation: https://pandas.pydata.org/pandas-docs/stable/user_guide/indexing.html#returning-a-view-versus-a-copy\n",
      "  wd_c3['fecha_hora_cierre'] = wd_c3['fecha_hora_cierre'].apply(lambda x: dt.datetime.strftime(x, '%Y-%d-%m %H:%M:%S'))\n",
      "<ipython-input-17-228895b02313>:3: SettingWithCopyWarning: \n",
      "A value is trying to be set on a copy of a slice from a DataFrame.\n",
      "Try using .loc[row_indexer,col_indexer] = value instead\n",
      "\n",
      "See the caveats in the documentation: https://pandas.pydata.org/pandas-docs/stable/user_guide/indexing.html#returning-a-view-versus-a-copy\n",
      "  wd_c3['fecha_hora_cierre'] = pd.to_datetime(wd_c3['fecha_hora_cierre'])\n",
      "<ipython-input-17-228895b02313>:4: SettingWithCopyWarning: \n",
      "A value is trying to be set on a copy of a slice from a DataFrame.\n",
      "Try using .loc[row_indexer,col_indexer] = value instead\n",
      "\n",
      "See the caveats in the documentation: https://pandas.pydata.org/pandas-docs/stable/user_guide/indexing.html#returning-a-view-versus-a-copy\n",
      "  wd_c3['tiempo_atencion'] = (wd_c3['fecha_hora_cierre'] - wd_c3['fecha_hora_creacion']) / dt.timedelta(hours=1)\n"
     ]
    },
    {
     "data": {
      "text/html": [
       "<div>\n",
       "<style scoped>\n",
       "    .dataframe tbody tr th:only-of-type {\n",
       "        vertical-align: middle;\n",
       "    }\n",
       "\n",
       "    .dataframe tbody tr th {\n",
       "        vertical-align: top;\n",
       "    }\n",
       "\n",
       "    .dataframe thead th {\n",
       "        text-align: right;\n",
       "    }\n",
       "</style>\n",
       "<table border=\"1\" class=\"dataframe\">\n",
       "  <thead>\n",
       "    <tr style=\"text-align: right;\">\n",
       "      <th></th>\n",
       "      <th>fecha_hora_cierre</th>\n",
       "      <th>fecha_hora_creacion</th>\n",
       "      <th>tiempo_atencion</th>\n",
       "    </tr>\n",
       "  </thead>\n",
       "  <tbody>\n",
       "    <tr>\n",
       "      <th>1558</th>\n",
       "      <td>2017-07-01 01:16:27</td>\n",
       "      <td>2017-06-30 21:20:01</td>\n",
       "      <td>3.940556</td>\n",
       "    </tr>\n",
       "    <tr>\n",
       "      <th>1572</th>\n",
       "      <td>2017-07-01 07:30:12</td>\n",
       "      <td>2017-06-30 21:50:57</td>\n",
       "      <td>9.654167</td>\n",
       "    </tr>\n",
       "    <tr>\n",
       "      <th>1583</th>\n",
       "      <td>2017-07-01 00:21:41</td>\n",
       "      <td>2017-06-30 22:04:54</td>\n",
       "      <td>2.279722</td>\n",
       "    </tr>\n",
       "    <tr>\n",
       "      <th>1586</th>\n",
       "      <td>2017-07-01 00:30:19</td>\n",
       "      <td>2017-06-30 22:50:41</td>\n",
       "      <td>1.660556</td>\n",
       "    </tr>\n",
       "    <tr>\n",
       "      <th>1596</th>\n",
       "      <td>2017-07-01 04:41:22</td>\n",
       "      <td>2017-06-30 22:12:23</td>\n",
       "      <td>6.483056</td>\n",
       "    </tr>\n",
       "    <tr>\n",
       "      <th>...</th>\n",
       "      <td>...</td>\n",
       "      <td>...</td>\n",
       "      <td>...</td>\n",
       "    </tr>\n",
       "    <tr>\n",
       "      <th>680767</th>\n",
       "      <td>2021-02-01 00:16:24</td>\n",
       "      <td>2021-01-31 23:09:56</td>\n",
       "      <td>1.107778</td>\n",
       "    </tr>\n",
       "    <tr>\n",
       "      <th>680769</th>\n",
       "      <td>2021-02-01 00:02:56</td>\n",
       "      <td>2021-01-31 23:20:38</td>\n",
       "      <td>0.705000</td>\n",
       "    </tr>\n",
       "    <tr>\n",
       "      <th>680770</th>\n",
       "      <td>2021-02-01 02:21:40</td>\n",
       "      <td>2021-01-31 23:30:34</td>\n",
       "      <td>2.851667</td>\n",
       "    </tr>\n",
       "    <tr>\n",
       "      <th>680771</th>\n",
       "      <td>2021-02-01 05:05:36</td>\n",
       "      <td>2021-01-31 23:37:20</td>\n",
       "      <td>5.471111</td>\n",
       "    </tr>\n",
       "    <tr>\n",
       "      <th>680774</th>\n",
       "      <td>2021-02-01 05:45:38</td>\n",
       "      <td>2021-01-31 23:50:23</td>\n",
       "      <td>5.920833</td>\n",
       "    </tr>\n",
       "  </tbody>\n",
       "</table>\n",
       "<p>933 rows × 3 columns</p>\n",
       "</div>"
      ],
      "text/plain": [
       "         fecha_hora_cierre fecha_hora_creacion  tiempo_atencion\n",
       "1558   2017-07-01 01:16:27 2017-06-30 21:20:01         3.940556\n",
       "1572   2017-07-01 07:30:12 2017-06-30 21:50:57         9.654167\n",
       "1583   2017-07-01 00:21:41 2017-06-30 22:04:54         2.279722\n",
       "1586   2017-07-01 00:30:19 2017-06-30 22:50:41         1.660556\n",
       "1596   2017-07-01 04:41:22 2017-06-30 22:12:23         6.483056\n",
       "...                    ...                 ...              ...\n",
       "680767 2021-02-01 00:16:24 2021-01-31 23:09:56         1.107778\n",
       "680769 2021-02-01 00:02:56 2021-01-31 23:20:38         0.705000\n",
       "680770 2021-02-01 02:21:40 2021-01-31 23:30:34         2.851667\n",
       "680771 2021-02-01 05:05:36 2021-01-31 23:37:20         5.471111\n",
       "680774 2021-02-01 05:45:38 2021-01-31 23:50:23         5.920833\n",
       "\n",
       "[933 rows x 3 columns]"
      ]
     },
     "execution_count": 17,
     "metadata": {},
     "output_type": "execute_result"
    }
   ],
   "source": [
    "# 933 de 1922\n",
    "wd_c3['fecha_hora_cierre'] = wd_c3['fecha_hora_cierre'].apply(lambda x: dt.datetime.strftime(x, '%Y-%d-%m %H:%M:%S'))\n",
    "wd_c3['fecha_hora_cierre'] = pd.to_datetime(wd_c3['fecha_hora_cierre'])\n",
    "wd_c3['tiempo_atencion'] = (wd_c3['fecha_hora_cierre'] - wd_c3['fecha_hora_creacion']) / dt.timedelta(hours=1)\n",
    "df.loc[wd_c3.index] = wd_c3\n",
    "df.loc[wd_c3.index][['fecha_hora_cierre', 'fecha_hora_creacion', 'tiempo_atencion']]"
   ]
  },
  {
   "cell_type": "markdown",
   "metadata": {},
   "source": [
    "A continuación las fechas de creacion mal escritas que se abrieron en un mes y se cerraron al siguiente"
   ]
  },
  {
   "cell_type": "code",
   "execution_count": 18,
   "metadata": {},
   "outputs": [
    {
     "data": {
      "text/html": [
       "<div>\n",
       "<style scoped>\n",
       "    .dataframe tbody tr th:only-of-type {\n",
       "        vertical-align: middle;\n",
       "    }\n",
       "\n",
       "    .dataframe tbody tr th {\n",
       "        vertical-align: top;\n",
       "    }\n",
       "\n",
       "    .dataframe thead th {\n",
       "        text-align: right;\n",
       "    }\n",
       "</style>\n",
       "<table border=\"1\" class=\"dataframe\">\n",
       "  <thead>\n",
       "    <tr style=\"text-align: right;\">\n",
       "      <th></th>\n",
       "      <th>fecha_hora_cierre</th>\n",
       "      <th>fecha_hora_creacion</th>\n",
       "      <th>tiempo_atencion</th>\n",
       "    </tr>\n",
       "  </thead>\n",
       "  <tbody>\n",
       "    <tr>\n",
       "      <th>543375</th>\n",
       "      <td>2019-06-24 03:29:33</td>\n",
       "      <td>2019-07-05 12:32:30</td>\n",
       "      <td>-273.049167</td>\n",
       "    </tr>\n",
       "    <tr>\n",
       "      <th>545762</th>\n",
       "      <td>2019-07-24 21:31:44</td>\n",
       "      <td>2019-11-06 18:17:38</td>\n",
       "      <td>-2516.765000</td>\n",
       "    </tr>\n",
       "  </tbody>\n",
       "</table>\n",
       "</div>"
      ],
      "text/plain": [
       "         fecha_hora_cierre fecha_hora_creacion  tiempo_atencion\n",
       "543375 2019-06-24 03:29:33 2019-07-05 12:32:30      -273.049167\n",
       "545762 2019-07-24 21:31:44 2019-11-06 18:17:38     -2516.765000"
      ]
     },
     "execution_count": 18,
     "metadata": {},
     "output_type": "execute_result"
    }
   ],
   "source": [
    "c4 = (wrong_data.fecha_hora_cierre.dt.day >= 12) & (wrong_data.fecha_hora_cierre.dt.month == wrong_data.fecha_hora_creacion.dt.day+1)\n",
    "wd_c4 = wrong_data[c4]\n",
    "wd_c4[['fecha_hora_cierre', 'fecha_hora_creacion', 'tiempo_atencion']]"
   ]
  },
  {
   "cell_type": "code",
   "execution_count": 19,
   "metadata": {},
   "outputs": [
    {
     "name": "stderr",
     "output_type": "stream",
     "text": [
      "<ipython-input-19-81bde7204589>:1: SettingWithCopyWarning: \n",
      "A value is trying to be set on a copy of a slice from a DataFrame.\n",
      "Try using .loc[row_indexer,col_indexer] = value instead\n",
      "\n",
      "See the caveats in the documentation: https://pandas.pydata.org/pandas-docs/stable/user_guide/indexing.html#returning-a-view-versus-a-copy\n",
      "  wd_c4['fecha_hora_creacion'] = wd_c4['fecha_hora_creacion'].apply(lambda x: dt.datetime.strftime(x, '%Y-%d-%m %H:%M:%S'))\n",
      "<ipython-input-19-81bde7204589>:2: SettingWithCopyWarning: \n",
      "A value is trying to be set on a copy of a slice from a DataFrame.\n",
      "Try using .loc[row_indexer,col_indexer] = value instead\n",
      "\n",
      "See the caveats in the documentation: https://pandas.pydata.org/pandas-docs/stable/user_guide/indexing.html#returning-a-view-versus-a-copy\n",
      "  wd_c4['fecha_hora_creacion'] = pd.to_datetime(wd_c4['fecha_hora_creacion'])\n",
      "<ipython-input-19-81bde7204589>:3: SettingWithCopyWarning: \n",
      "A value is trying to be set on a copy of a slice from a DataFrame.\n",
      "Try using .loc[row_indexer,col_indexer] = value instead\n",
      "\n",
      "See the caveats in the documentation: https://pandas.pydata.org/pandas-docs/stable/user_guide/indexing.html#returning-a-view-versus-a-copy\n",
      "  wd_c4['tiempo_atencion'] = (wd_c4['fecha_hora_cierre'] - wd_c4['fecha_hora_creacion']) / dt.timedelta(hours=1)\n"
     ]
    },
    {
     "data": {
      "text/html": [
       "<div>\n",
       "<style scoped>\n",
       "    .dataframe tbody tr th:only-of-type {\n",
       "        vertical-align: middle;\n",
       "    }\n",
       "\n",
       "    .dataframe tbody tr th {\n",
       "        vertical-align: top;\n",
       "    }\n",
       "\n",
       "    .dataframe thead th {\n",
       "        text-align: right;\n",
       "    }\n",
       "</style>\n",
       "<table border=\"1\" class=\"dataframe\">\n",
       "  <thead>\n",
       "    <tr style=\"text-align: right;\">\n",
       "      <th></th>\n",
       "      <th>fecha_hora_cierre</th>\n",
       "      <th>fecha_hora_creacion</th>\n",
       "      <th>tiempo_atencion</th>\n",
       "    </tr>\n",
       "  </thead>\n",
       "  <tbody>\n",
       "    <tr>\n",
       "      <th>543375</th>\n",
       "      <td>2019-06-24 03:29:33</td>\n",
       "      <td>2019-05-07 12:32:30</td>\n",
       "      <td>1142.950833</td>\n",
       "    </tr>\n",
       "    <tr>\n",
       "      <th>545762</th>\n",
       "      <td>2019-07-24 21:31:44</td>\n",
       "      <td>2019-06-11 18:17:38</td>\n",
       "      <td>1035.235000</td>\n",
       "    </tr>\n",
       "  </tbody>\n",
       "</table>\n",
       "</div>"
      ],
      "text/plain": [
       "         fecha_hora_cierre fecha_hora_creacion  tiempo_atencion\n",
       "543375 2019-06-24 03:29:33 2019-05-07 12:32:30      1142.950833\n",
       "545762 2019-07-24 21:31:44 2019-06-11 18:17:38      1035.235000"
      ]
     },
     "execution_count": 19,
     "metadata": {},
     "output_type": "execute_result"
    }
   ],
   "source": [
    "wd_c4['fecha_hora_creacion'] = wd_c4['fecha_hora_creacion'].apply(lambda x: dt.datetime.strftime(x, '%Y-%d-%m %H:%M:%S'))\n",
    "wd_c4['fecha_hora_creacion'] = pd.to_datetime(wd_c4['fecha_hora_creacion'])\n",
    "wd_c4['tiempo_atencion'] = (wd_c4['fecha_hora_cierre'] - wd_c4['fecha_hora_creacion']) / dt.timedelta(hours=1)\n",
    "df.loc[wd_c4.index] = wd_c4\n",
    "df.loc[wd_c4.index][['fecha_hora_cierre', 'fecha_hora_creacion', 'tiempo_atencion']]"
   ]
  },
  {
   "cell_type": "markdown",
   "metadata": {},
   "source": [
    "El resto de valores negativos es ambiguo, pues ambas fechas podrían estar escritas correctamente por lo que no podemos determinar con certeza cual fecha hay que corregir. Por lo tanto se deshecharan estos datos."
   ]
  },
  {
   "cell_type": "code",
   "execution_count": 20,
   "metadata": {
    "scrolled": true
   },
   "outputs": [
    {
     "data": {
      "text/html": [
       "<div>\n",
       "<style scoped>\n",
       "    .dataframe tbody tr th:only-of-type {\n",
       "        vertical-align: middle;\n",
       "    }\n",
       "\n",
       "    .dataframe tbody tr th {\n",
       "        vertical-align: top;\n",
       "    }\n",
       "\n",
       "    .dataframe thead th {\n",
       "        text-align: right;\n",
       "    }\n",
       "</style>\n",
       "<table border=\"1\" class=\"dataframe\">\n",
       "  <thead>\n",
       "    <tr style=\"text-align: right;\">\n",
       "      <th></th>\n",
       "      <th>fecha_hora_cierre</th>\n",
       "      <th>fecha_hora_creacion</th>\n",
       "      <th>tiempo_atencion</th>\n",
       "    </tr>\n",
       "  </thead>\n",
       "  <tbody>\n",
       "    <tr>\n",
       "      <th>32410</th>\n",
       "      <td>2017-02-12 02:02:15</td>\n",
       "      <td>2017-06-11 18:36:34</td>\n",
       "      <td>-2872.571944</td>\n",
       "    </tr>\n",
       "    <tr>\n",
       "      <th>105387</th>\n",
       "      <td>2017-03-04 04:09:41</td>\n",
       "      <td>2017-09-03 16:11:26</td>\n",
       "      <td>-4404.029167</td>\n",
       "    </tr>\n",
       "    <tr>\n",
       "      <th>487063</th>\n",
       "      <td>2019-03-09 22:56:42</td>\n",
       "      <td>2019-05-08 20:08:13</td>\n",
       "      <td>-1437.191944</td>\n",
       "    </tr>\n",
       "    <tr>\n",
       "      <th>488133</th>\n",
       "      <td>2019-09-09 17:20:59</td>\n",
       "      <td>2019-10-08 08:08:36</td>\n",
       "      <td>-686.793611</td>\n",
       "    </tr>\n",
       "    <tr>\n",
       "      <th>512716</th>\n",
       "      <td>2019-09-09 17:54:24</td>\n",
       "      <td>2019-12-08 17:32:25</td>\n",
       "      <td>-2159.633611</td>\n",
       "    </tr>\n",
       "  </tbody>\n",
       "</table>\n",
       "</div>"
      ],
      "text/plain": [
       "         fecha_hora_cierre fecha_hora_creacion  tiempo_atencion\n",
       "32410  2017-02-12 02:02:15 2017-06-11 18:36:34     -2872.571944\n",
       "105387 2017-03-04 04:09:41 2017-09-03 16:11:26     -4404.029167\n",
       "487063 2019-03-09 22:56:42 2019-05-08 20:08:13     -1437.191944\n",
       "488133 2019-09-09 17:20:59 2019-10-08 08:08:36      -686.793611\n",
       "512716 2019-09-09 17:54:24 2019-12-08 17:32:25     -2159.633611"
      ]
     },
     "execution_count": 20,
     "metadata": {},
     "output_type": "execute_result"
    }
   ],
   "source": [
    "df[df['tiempo_atencion'] < 0][['fecha_hora_cierre', 'fecha_hora_creacion', 'tiempo_atencion']]"
   ]
  },
  {
   "cell_type": "code",
   "execution_count": 21,
   "metadata": {},
   "outputs": [
    {
     "data": {
      "text/html": [
       "<div>\n",
       "<style scoped>\n",
       "    .dataframe tbody tr th:only-of-type {\n",
       "        vertical-align: middle;\n",
       "    }\n",
       "\n",
       "    .dataframe tbody tr th {\n",
       "        vertical-align: top;\n",
       "    }\n",
       "\n",
       "    .dataframe thead th {\n",
       "        text-align: right;\n",
       "    }\n",
       "</style>\n",
       "<table border=\"1\" class=\"dataframe\">\n",
       "  <thead>\n",
       "    <tr style=\"text-align: right;\">\n",
       "      <th></th>\n",
       "      <th>folio</th>\n",
       "      <th>codigo_cierre</th>\n",
       "      <th>delegacion_inicio</th>\n",
       "      <th>incidente_c4</th>\n",
       "      <th>latitud</th>\n",
       "      <th>longitud</th>\n",
       "      <th>clas_con_f_alarma</th>\n",
       "      <th>tipo_entrada</th>\n",
       "      <th>delegacion_cierre</th>\n",
       "      <th>mes</th>\n",
       "      <th>fecha_hora_cierre</th>\n",
       "      <th>fecha_hora_creacion</th>\n",
       "      <th>tiempo_atencion</th>\n",
       "    </tr>\n",
       "  </thead>\n",
       "  <tbody>\n",
       "    <tr>\n",
       "      <th>2</th>\n",
       "      <td>C5/170622/03715</td>\n",
       "      <td>(N) La unidad de atención a emergencias fue de...</td>\n",
       "      <td>VENUSTIANO CARRANZA</td>\n",
       "      <td>accidente-choque sin lesionados</td>\n",
       "      <td>19.43053</td>\n",
       "      <td>-99.05260</td>\n",
       "      <td>EMERGENCIA</td>\n",
       "      <td>LLAMADA DEL 911</td>\n",
       "      <td>VENUSTIANO CARRANZA</td>\n",
       "      <td>6</td>\n",
       "      <td>2017-06-22 16:48:07</td>\n",
       "      <td>2017-06-22 13:44:52</td>\n",
       "      <td>3.054167</td>\n",
       "    </tr>\n",
       "    <tr>\n",
       "      <th>5</th>\n",
       "      <td>C5/170621/07339</td>\n",
       "      <td>(A) La unidad de atención a emergencias fue de...</td>\n",
       "      <td>IZTAPALAPA</td>\n",
       "      <td>accidente-choque sin lesionados</td>\n",
       "      <td>19.38676</td>\n",
       "      <td>-99.03350</td>\n",
       "      <td>EMERGENCIA</td>\n",
       "      <td>LLAMADA DEL 911</td>\n",
       "      <td>IZTAPALAPA</td>\n",
       "      <td>6</td>\n",
       "      <td>2017-06-22 03:53:51</td>\n",
       "      <td>2017-06-21 23:29:01</td>\n",
       "      <td>4.413889</td>\n",
       "    </tr>\n",
       "    <tr>\n",
       "      <th>8</th>\n",
       "      <td>C5/170622/01694</td>\n",
       "      <td>(N) La unidad de atención a emergencias fue de...</td>\n",
       "      <td>IZTAPALAPA</td>\n",
       "      <td>accidente-choque sin lesionados</td>\n",
       "      <td>19.35017</td>\n",
       "      <td>-99.07324</td>\n",
       "      <td>EMERGENCIA</td>\n",
       "      <td>LLAMADA DEL 911</td>\n",
       "      <td>IZTAPALAPA</td>\n",
       "      <td>6</td>\n",
       "      <td>2017-06-22 10:47:19</td>\n",
       "      <td>2017-06-22 08:51:30</td>\n",
       "      <td>1.930278</td>\n",
       "    </tr>\n",
       "    <tr>\n",
       "      <th>9</th>\n",
       "      <td>C5/170622/03779</td>\n",
       "      <td>(N) La unidad de atención a emergencias fue de...</td>\n",
       "      <td>CUAJIMALPA</td>\n",
       "      <td>accidente-choque sin lesionados</td>\n",
       "      <td>19.37273</td>\n",
       "      <td>-99.27753</td>\n",
       "      <td>EMERGENCIA</td>\n",
       "      <td>LLAMADA DEL 911</td>\n",
       "      <td>CUAJIMALPA</td>\n",
       "      <td>6</td>\n",
       "      <td>2017-06-22 14:17:46</td>\n",
       "      <td>2017-06-22 13:49:44</td>\n",
       "      <td>0.467222</td>\n",
       "    </tr>\n",
       "    <tr>\n",
       "      <th>12</th>\n",
       "      <td>C5/170622/04693</td>\n",
       "      <td>(N) La unidad de atención a emergencias fue de...</td>\n",
       "      <td>MIGUEL HIDALGO</td>\n",
       "      <td>accidente-choque sin lesionados</td>\n",
       "      <td>19.45316</td>\n",
       "      <td>-99.19868</td>\n",
       "      <td>EMERGENCIA</td>\n",
       "      <td>LLAMADA DEL 911</td>\n",
       "      <td>MIGUEL HIDALGO</td>\n",
       "      <td>6</td>\n",
       "      <td>2017-06-22 16:47:41</td>\n",
       "      <td>2017-06-22 15:48:39</td>\n",
       "      <td>0.983889</td>\n",
       "    </tr>\n",
       "  </tbody>\n",
       "</table>\n",
       "</div>"
      ],
      "text/plain": [
       "              folio                                      codigo_cierre  \\\n",
       "2   C5/170622/03715  (N) La unidad de atención a emergencias fue de...   \n",
       "5   C5/170621/07339  (A) La unidad de atención a emergencias fue de...   \n",
       "8   C5/170622/01694  (N) La unidad de atención a emergencias fue de...   \n",
       "9   C5/170622/03779  (N) La unidad de atención a emergencias fue de...   \n",
       "12  C5/170622/04693  (N) La unidad de atención a emergencias fue de...   \n",
       "\n",
       "      delegacion_inicio                     incidente_c4   latitud  longitud  \\\n",
       "2   VENUSTIANO CARRANZA  accidente-choque sin lesionados  19.43053 -99.05260   \n",
       "5            IZTAPALAPA  accidente-choque sin lesionados  19.38676 -99.03350   \n",
       "8            IZTAPALAPA  accidente-choque sin lesionados  19.35017 -99.07324   \n",
       "9            CUAJIMALPA  accidente-choque sin lesionados  19.37273 -99.27753   \n",
       "12       MIGUEL HIDALGO  accidente-choque sin lesionados  19.45316 -99.19868   \n",
       "\n",
       "   clas_con_f_alarma     tipo_entrada    delegacion_cierre mes  \\\n",
       "2         EMERGENCIA  LLAMADA DEL 911  VENUSTIANO CARRANZA   6   \n",
       "5         EMERGENCIA  LLAMADA DEL 911           IZTAPALAPA   6   \n",
       "8         EMERGENCIA  LLAMADA DEL 911           IZTAPALAPA   6   \n",
       "9         EMERGENCIA  LLAMADA DEL 911           CUAJIMALPA   6   \n",
       "12        EMERGENCIA  LLAMADA DEL 911       MIGUEL HIDALGO   6   \n",
       "\n",
       "     fecha_hora_cierre fecha_hora_creacion  tiempo_atencion  \n",
       "2  2017-06-22 16:48:07 2017-06-22 13:44:52         3.054167  \n",
       "5  2017-06-22 03:53:51 2017-06-21 23:29:01         4.413889  \n",
       "8  2017-06-22 10:47:19 2017-06-22 08:51:30         1.930278  \n",
       "9  2017-06-22 14:17:46 2017-06-22 13:49:44         0.467222  \n",
       "12 2017-06-22 16:47:41 2017-06-22 15:48:39         0.983889  "
      ]
     },
     "execution_count": 21,
     "metadata": {},
     "output_type": "execute_result"
    }
   ],
   "source": [
    "df_clean = df[df['tiempo_atencion'] > 0]\n",
    "df_clean_backup = df_clean.copy()\n",
    "df_clean.head()"
   ]
  },
  {
   "cell_type": "markdown",
   "metadata": {},
   "source": [
    "## 1.2 Estimados de locación y variabilidad "
   ]
  },
  {
   "cell_type": "code",
   "execution_count": 24,
   "metadata": {},
   "outputs": [
    {
     "name": "stdout",
     "output_type": "stream",
     "text": [
      "La media del tiempo de atención es 22.73 horas\n",
      "La varianza del tiempo de atención es 132.22 horas\n",
      "La mediana del tiempo de atención es 22.73 horas\n",
      "La media del tiempo de atención es 15.16 horas\n"
     ]
    }
   ],
   "source": [
    "tiempo_atencion_mean = df_clean.tiempo_atencion.mean()\n",
    "tiempo_atencion_std = df_clean.tiempo_atencion.std()\n",
    "tiempo_atencion_median = df_clean.tiempo_atencion.median()\n",
    "tiempo_atencion_trimmed_mean = sts.trim_mean(df_clean['tiempo_atencion'], 0.01)\n",
    "\n",
    "print(f'La media del tiempo de atención es {round(tiempo_atencion_mean,2)} horas')\n",
    "print(f'La varianza del tiempo de atención es {round(tiempo_atencion_std,2)} horas')\n",
    "print(f'La mediana del tiempo de atención es {round(tiempo_atencion_mean,2)} horas')\n",
    "print(f'La media del tiempo de atención es {round(tiempo_atencion_trimmed_mean,2)} horas')"
   ]
  },
  {
   "cell_type": "markdown",
   "metadata": {},
   "source": [
    "Como la media y la mediana son muy parecidas, es probable que no haya valores atípicos. Esto es reforzado por el hecho de qe la media truncada al 1% cambia mucho en comparación a la media. Sin embargo, revisaremos los estimados de orden para corroborarlo "
   ]
  },
  {
   "cell_type": "markdown",
   "metadata": {},
   "source": [
    "## 1.3 Estimados de orden"
   ]
  },
  {
   "cell_type": "code",
   "execution_count": 25,
   "metadata": {},
   "outputs": [
    {
     "name": "stdout",
     "output_type": "stream",
     "text": [
      "El valor tiempo de atención mínimo es de 0.0 horas\n",
      "El percentil 10% de tiempo de atención es 0.25 horas\n",
      "El percentil 25% de tiempo de atención es 0.45 horas\n",
      "El percentil 50% de tiempo de atención es 1.05 horas\n",
      "El percentil 75% de tiempo de atención es 2.37 horas\n",
      "El percentil 90% de tiempo de atención es 4.62 horas\n",
      "El valor tiempo de atención máximo es de 16501.44 horas\n"
     ]
    }
   ],
   "source": [
    "tiempo_atencion_min = df_clean['tiempo_atencion'].min()\n",
    "tiempo_atencion_percentile_10 = df_clean['tiempo_atencion'].quantile(0.1)\n",
    "tiempo_atencion_percentile_25 = df_clean['tiempo_atencion'].quantile(0.25)\n",
    "tiempo_atencion_percentile_50 = df_clean['tiempo_atencion'].quantile(0.5)\n",
    "tiempo_atencion_percentile_75 = df_clean['tiempo_atencion'].quantile(0.75)\n",
    "tiempo_atencion_percentile_90 = df_clean['tiempo_atencion'].quantile(0.9)\n",
    "tiempo_atencion_max = df_clean['tiempo_atencion'].max()\n",
    "\n",
    "print(f'El valor tiempo de atención mínimo es de {round(tiempo_atencion_min,2)} horas')\n",
    "print(f'El percentil 10% de tiempo de atención es {round(tiempo_atencion_percentile_10,2)} horas')\n",
    "print(f'El percentil 25% de tiempo de atención es {round(tiempo_atencion_percentile_25,2)} horas')\n",
    "print(f'El percentil 50% de tiempo de atención es {round(tiempo_atencion_percentile_50,2)} horas')\n",
    "print(f'El percentil 75% de tiempo de atención es {round(tiempo_atencion_percentile_75,2)} horas')\n",
    "print(f'El percentil 90% de tiempo de atención es {round(tiempo_atencion_percentile_90,2)} horas')\n",
    "print(f'El valor tiempo de atención máximo es de {round(tiempo_atencion_max,2)} horas')"
   ]
  },
  {
   "cell_type": "markdown",
   "metadata": {},
   "source": [
    "La diferencia tan grande entre el tiempo de atención máximo y el percentil 90 demuestran que efectivamente hay valores atípicos que pueden ser encontrados"
   ]
  },
  {
   "cell_type": "code",
   "execution_count": 26,
   "metadata": {},
   "outputs": [],
   "source": [
    "tiempo_atencion_range = tiempo_atencion_max - tiempo_atencion_min \n",
    "tiempo_atencion_iq_range = tiempo_atencion_percentile_75 - tiempo_atencion_percentile_25"
   ]
  },
  {
   "cell_type": "code",
   "execution_count": 27,
   "metadata": {},
   "outputs": [
    {
     "name": "stdout",
     "output_type": "stream",
     "text": [
      "El rango del tiempo de atencion es 16501.43 horas\n",
      "El rango intercuartil del tiempo de atencion es 1.92 horas\n"
     ]
    }
   ],
   "source": [
    "print(f'El rango del tiempo de atencion es {round(tiempo_atencion_range,2)} horas')\n",
    "print(f'El rango intercuartil del tiempo de atencion es {round(tiempo_atencion_iq_range,2)} horas')"
   ]
  },
  {
   "cell_type": "code",
   "execution_count": 28,
   "metadata": {},
   "outputs": [
    {
     "data": {
      "text/html": [
       "<div>\n",
       "<style scoped>\n",
       "    .dataframe tbody tr th:only-of-type {\n",
       "        vertical-align: middle;\n",
       "    }\n",
       "\n",
       "    .dataframe tbody tr th {\n",
       "        vertical-align: top;\n",
       "    }\n",
       "\n",
       "    .dataframe thead th {\n",
       "        text-align: right;\n",
       "    }\n",
       "</style>\n",
       "<table border=\"1\" class=\"dataframe\">\n",
       "  <thead>\n",
       "    <tr style=\"text-align: right;\">\n",
       "      <th></th>\n",
       "      <th>latitud</th>\n",
       "      <th>longitud</th>\n",
       "      <th>tiempo_atencion</th>\n",
       "    </tr>\n",
       "  </thead>\n",
       "  <tbody>\n",
       "    <tr>\n",
       "      <th>count</th>\n",
       "      <td>369275.000000</td>\n",
       "      <td>369275.000000</td>\n",
       "      <td>369275.000000</td>\n",
       "    </tr>\n",
       "    <tr>\n",
       "      <th>mean</th>\n",
       "      <td>19.382308</td>\n",
       "      <td>-99.137894</td>\n",
       "      <td>22.727953</td>\n",
       "    </tr>\n",
       "    <tr>\n",
       "      <th>std</th>\n",
       "      <td>0.069267</td>\n",
       "      <td>0.062468</td>\n",
       "      <td>132.217097</td>\n",
       "    </tr>\n",
       "    <tr>\n",
       "      <th>min</th>\n",
       "      <td>19.095427</td>\n",
       "      <td>-99.370561</td>\n",
       "      <td>0.004722</td>\n",
       "    </tr>\n",
       "    <tr>\n",
       "      <th>25%</th>\n",
       "      <td>19.335590</td>\n",
       "      <td>-99.180590</td>\n",
       "      <td>0.447222</td>\n",
       "    </tr>\n",
       "    <tr>\n",
       "      <th>50%</th>\n",
       "      <td>19.383290</td>\n",
       "      <td>-99.141057</td>\n",
       "      <td>1.047222</td>\n",
       "    </tr>\n",
       "    <tr>\n",
       "      <th>75%</th>\n",
       "      <td>19.433160</td>\n",
       "      <td>-99.096370</td>\n",
       "      <td>2.368611</td>\n",
       "    </tr>\n",
       "    <tr>\n",
       "      <th>max</th>\n",
       "      <td>19.579320</td>\n",
       "      <td>-98.945370</td>\n",
       "      <td>16501.436111</td>\n",
       "    </tr>\n",
       "  </tbody>\n",
       "</table>\n",
       "</div>"
      ],
      "text/plain": [
       "             latitud       longitud  tiempo_atencion\n",
       "count  369275.000000  369275.000000    369275.000000\n",
       "mean       19.382308     -99.137894        22.727953\n",
       "std         0.069267       0.062468       132.217097\n",
       "min        19.095427     -99.370561         0.004722\n",
       "25%        19.335590     -99.180590         0.447222\n",
       "50%        19.383290     -99.141057         1.047222\n",
       "75%        19.433160     -99.096370         2.368611\n",
       "max        19.579320     -98.945370     16501.436111"
      ]
     },
     "execution_count": 28,
     "metadata": {},
     "output_type": "execute_result"
    }
   ],
   "source": [
    "df_clean.describe()"
   ]
  },
  {
   "cell_type": "code",
   "execution_count": 29,
   "metadata": {},
   "outputs": [],
   "source": [
    "sns.set(style=\"ticks\")\n",
    "ta = df_clean['tiempo_atencion']"
   ]
  },
  {
   "cell_type": "code",
   "execution_count": 31,
   "metadata": {},
   "outputs": [
    {
     "data": {
      "text/plain": [
       "[Text(0, 0.5, 'Densidad'), Text(0.5, 0, 'Tiempo atención (Horas)')]"
      ]
     },
     "execution_count": 31,
     "metadata": {},
     "output_type": "execute_result"
    },
    {
     "data": {
      "image/png": "[encoded data removed]",
      "text/plain": [
       "<Figure size 864x288 with 2 Axes>"
      ]
     },
     "metadata": {},
     "output_type": "display_data"
    }
   ],
   "source": [
    "fig, axs = plt.subplots(1, 2, sharey=False, sharex=False, figsize=(12,4))\n",
    "\n",
    "fig.suptitle('Distribución del tiempo de atención a incidentes vehiculares en CDMX')\n",
    "\n",
    "# Boxplot\n",
    "sns.boxplot(x=ta, ax=axs[0]);\n",
    "axs[0].set(xlabel='Tiempo atención (Horas)')\n",
    "\n",
    "# Desnity plot\n",
    "sns.distplot(ta, hist=False, ax=axs[1]);\n",
    "axs[1].set(xlabel='Tiempo atención (Horas)', ylabel='Densidad')"
   ]
  },
  {
   "cell_type": "markdown",
   "metadata": {},
   "source": [
    "## 1.4 Filtro de datos atípicos"
   ]
  },
  {
   "cell_type": "markdown",
   "metadata": {},
   "source": [
    "Se filtraron los datos utilizando el rango intercuartílico como parámetro para filtrar los datos atípicos."
   ]
  },
  {
   "cell_type": "code",
   "execution_count": 32,
   "metadata": {},
   "outputs": [],
   "source": [
    "ll = ta > tiempo_atencion_percentile_25 - (tiempo_atencion_iq_range * 1.5)\n",
    "ul = ta < tiempo_atencion_percentile_75 + (tiempo_atencion_iq_range * 1.5)\n",
    "\n",
    "df_filtered = df_clean[ll & ul]\n",
    "ta_filtered = df_filtered['tiempo_atencion']"
   ]
  },
  {
   "cell_type": "code",
   "execution_count": 33,
   "metadata": {},
   "outputs": [
    {
     "data": {
      "text/plain": [
       "8.223952339042718"
      ]
     },
     "execution_count": 33,
     "metadata": {},
     "output_type": "execute_result"
    }
   ],
   "source": [
    "# Porcentaje de datos eliminados por ser atípicos\n",
    "(1 - (ta_filtered.shape[0]/ta.shape[0]))*100"
   ]
  },
  {
   "cell_type": "code",
   "execution_count": 125,
   "metadata": {
    "scrolled": true
   },
   "outputs": [
    {
     "data": {
      "image/png": "[encoded data removed]",
      "text/plain": [
       "<Figure size 864x288 with 2 Axes>"
      ]
     },
     "metadata": {},
     "output_type": "display_data"
    }
   ],
   "source": [
    "fig, axs = plt.subplots(1, 2, sharey=False, sharex=False, figsize=(12,4))\n",
    "\n",
    "fig.suptitle('Distribución del tiempo de atención a incidentes vehiculares en CDMX')\n",
    "\n",
    "# Boxplot\n",
    "sns.boxplot(x=ta_filtered, ax=axs[0]);\n",
    "axs[0].set(xlabel='Tiempo (horas)');\n",
    "\n",
    "# Desnity plot\n",
    "sns.distplot(ta_filtered, kde=False, norm_hist=False, bins=50, ax=axs[1]);\n",
    "axs[1].set(xlabel='Tiempo (horas)');\n",
    "axs[1].set(ylabel='Frecuencia');\n",
    "axs[1].axvline(ta_filtered.median(), color='r')\n",
    "\n",
    "plt.savefig('img/ta_distribucion.png')"
   ]
  },
  {
   "cell_type": "code",
   "execution_count": 35,
   "metadata": {},
   "outputs": [
    {
     "data": {
      "text/html": [
       "<div>\n",
       "<style scoped>\n",
       "    .dataframe tbody tr th:only-of-type {\n",
       "        vertical-align: middle;\n",
       "    }\n",
       "\n",
       "    .dataframe tbody tr th {\n",
       "        vertical-align: top;\n",
       "    }\n",
       "\n",
       "    .dataframe thead th {\n",
       "        text-align: right;\n",
       "    }\n",
       "</style>\n",
       "<table border=\"1\" class=\"dataframe\">\n",
       "  <thead>\n",
       "    <tr style=\"text-align: right;\">\n",
       "      <th></th>\n",
       "      <th>latitud</th>\n",
       "      <th>longitud</th>\n",
       "      <th>tiempo_atencion</th>\n",
       "    </tr>\n",
       "  </thead>\n",
       "  <tbody>\n",
       "    <tr>\n",
       "      <th>count</th>\n",
       "      <td>338906.000000</td>\n",
       "      <td>338906.000000</td>\n",
       "      <td>338906.000000</td>\n",
       "    </tr>\n",
       "    <tr>\n",
       "      <th>mean</th>\n",
       "      <td>19.381929</td>\n",
       "      <td>-99.138307</td>\n",
       "      <td>1.334218</td>\n",
       "    </tr>\n",
       "    <tr>\n",
       "      <th>std</th>\n",
       "      <td>0.069209</td>\n",
       "      <td>0.062472</td>\n",
       "      <td>1.181696</td>\n",
       "    </tr>\n",
       "    <tr>\n",
       "      <th>min</th>\n",
       "      <td>19.095427</td>\n",
       "      <td>-99.370561</td>\n",
       "      <td>0.004722</td>\n",
       "    </tr>\n",
       "    <tr>\n",
       "      <th>25%</th>\n",
       "      <td>19.335170</td>\n",
       "      <td>-99.180690</td>\n",
       "      <td>0.416389</td>\n",
       "    </tr>\n",
       "    <tr>\n",
       "      <th>50%</th>\n",
       "      <td>19.383070</td>\n",
       "      <td>-99.141370</td>\n",
       "      <td>0.912917</td>\n",
       "    </tr>\n",
       "    <tr>\n",
       "      <th>75%</th>\n",
       "      <td>19.432550</td>\n",
       "      <td>-99.096880</td>\n",
       "      <td>1.932500</td>\n",
       "    </tr>\n",
       "    <tr>\n",
       "      <th>max</th>\n",
       "      <td>19.579320</td>\n",
       "      <td>-98.945370</td>\n",
       "      <td>5.250556</td>\n",
       "    </tr>\n",
       "  </tbody>\n",
       "</table>\n",
       "</div>"
      ],
      "text/plain": [
       "             latitud       longitud  tiempo_atencion\n",
       "count  338906.000000  338906.000000    338906.000000\n",
       "mean       19.381929     -99.138307         1.334218\n",
       "std         0.069209       0.062472         1.181696\n",
       "min        19.095427     -99.370561         0.004722\n",
       "25%        19.335170     -99.180690         0.416389\n",
       "50%        19.383070     -99.141370         0.912917\n",
       "75%        19.432550     -99.096880         1.932500\n",
       "max        19.579320     -98.945370         5.250556"
      ]
     },
     "execution_count": 35,
     "metadata": {},
     "output_type": "execute_result"
    }
   ],
   "source": [
    "df_filtered.describe()"
   ]
  },
  {
   "cell_type": "markdown",
   "metadata": {},
   "source": [
    "Esta nueva información sigue una distribución más concentrada considerando únicamente los tiempos de atención que representan al grueso de los datos."
   ]
  },
  {
   "cell_type": "markdown",
   "metadata": {},
   "source": [
    "# 2. Análisis exploratorio del tiempo de atención"
   ]
  },
  {
   "cell_type": "code",
   "execution_count": 36,
   "metadata": {},
   "outputs": [
    {
     "name": "stdout",
     "output_type": "stream",
     "text": [
      "Curtosis: 0.8476598876103325\n",
      "Asimetría: 1.2497437625678218\n"
     ]
    }
   ],
   "source": [
    "from scipy.stats import skew, kurtosis\n",
    "\n",
    "print(f'Curtosis: {kurtosis(ta_filtered)}')\n",
    "print(f'Asimetría: {skew(ta_filtered)}')"
   ]
  },
  {
   "cell_type": "markdown",
   "metadata": {},
   "source": [
    "Tal como se aprecia en la gráfica de densidad, el tiempo de atención a los incidentes viales tiene una distribución asimétrica cargada a la izquierda con un coeficiente de asimetría mayor a 1.2. La curtosis resultó ser mayor a 0.84, esto implica que hay más dispersión de los datos. "
   ]
  },
  {
   "cell_type": "markdown",
   "metadata": {},
   "source": [
    "## 2.3. Distribución por categorías"
   ]
  },
  {
   "cell_type": "markdown",
   "metadata": {},
   "source": [
    "### Delegación\n",
    "\n",
    "Se realizó un análisis exploratorio de la distribución del tiempo de atención por localidades, para ver si hay delegaciones en donde los incidentes reportados se cierran con mayor prontitud."
   ]
  },
  {
   "cell_type": "code",
   "execution_count": 130,
   "metadata": {
    "scrolled": true
   },
   "outputs": [
    {
     "data": {
      "text/html": [
       "<div>\n",
       "<style scoped>\n",
       "    .dataframe tbody tr th:only-of-type {\n",
       "        vertical-align: middle;\n",
       "    }\n",
       "\n",
       "    .dataframe tbody tr th {\n",
       "        vertical-align: top;\n",
       "    }\n",
       "\n",
       "    .dataframe thead th {\n",
       "        text-align: right;\n",
       "    }\n",
       "</style>\n",
       "<table border=\"1\" class=\"dataframe\">\n",
       "  <thead>\n",
       "    <tr style=\"text-align: right;\">\n",
       "      <th></th>\n",
       "      <th>tiempo_atencion</th>\n",
       "      <th>latitud</th>\n",
       "      <th>longitud</th>\n",
       "    </tr>\n",
       "    <tr>\n",
       "      <th>folio</th>\n",
       "      <th></th>\n",
       "      <th></th>\n",
       "      <th></th>\n",
       "    </tr>\n",
       "  </thead>\n",
       "  <tbody>\n",
       "    <tr>\n",
       "      <th>AO/161231/06182</th>\n",
       "      <td>3.967778</td>\n",
       "      <td>19.305150</td>\n",
       "      <td>-99.234510</td>\n",
       "    </tr>\n",
       "    <tr>\n",
       "      <th>AO/170101/00965</th>\n",
       "      <td>0.837778</td>\n",
       "      <td>19.402387</td>\n",
       "      <td>-99.231725</td>\n",
       "    </tr>\n",
       "    <tr>\n",
       "      <th>AO/170101/01450</th>\n",
       "      <td>1.065833</td>\n",
       "      <td>19.322567</td>\n",
       "      <td>-99.247142</td>\n",
       "    </tr>\n",
       "    <tr>\n",
       "      <th>AO/170101/02807</th>\n",
       "      <td>3.210833</td>\n",
       "      <td>19.349600</td>\n",
       "      <td>-99.304640</td>\n",
       "    </tr>\n",
       "    <tr>\n",
       "      <th>AO/170102/03200</th>\n",
       "      <td>2.970000</td>\n",
       "      <td>19.389630</td>\n",
       "      <td>-99.194224</td>\n",
       "    </tr>\n",
       "  </tbody>\n",
       "</table>\n",
       "</div>"
      ],
      "text/plain": [
       "                 tiempo_atencion    latitud   longitud\n",
       "folio                                                 \n",
       "AO/161231/06182         3.967778  19.305150 -99.234510\n",
       "AO/170101/00965         0.837778  19.402387 -99.231725\n",
       "AO/170101/01450         1.065833  19.322567 -99.247142\n",
       "AO/170101/02807         3.210833  19.349600 -99.304640\n",
       "AO/170102/03200         2.970000  19.389630 -99.194224"
      ]
     },
     "execution_count": 130,
     "metadata": {},
     "output_type": "execute_result"
    }
   ],
   "source": [
    "by_delegacion = df_filtered.groupby('folio')[['tiempo_atencion', 'latitud', 'longitud']].last()\n",
    "delegacion = df.groupby('folio')['delegacion_inicio'].last()\n",
    "merged = by_delegacion.merge(delegacion, left_index=True, right_index=True)\n",
    "by_delegacion.head()"
   ]
  },
  {
   "cell_type": "code",
   "execution_count": 132,
   "metadata": {},
   "outputs": [
    {
     "data": {
      "image/png": "[encoded data removed]",
      "text/plain": [
       "<Figure size 1080x288 with 1 Axes>"
      ]
     },
     "metadata": {},
     "output_type": "display_data"
    }
   ],
   "source": [
    "plt.figure(figsize=(15, 4))\n",
    "sns.boxplot(data=merged, x='delegacion_inicio', y='tiempo_atencion');\n",
    "plt.suptitle('Distribución de tiempo de atención por delegación');\n",
    "plt.xticks(rotation=45);\n",
    "plt.xlabel('Delegación');\n",
    "plt.ylabel('Tiempo de atención (Horas)');\n",
    "plt.axhline(ta_filtered.median(), color='#000000');\n",
    "\n",
    "plt.savefig('img/ta_distribucion_delegacion.png')"
   ]
  },
  {
   "cell_type": "markdown",
   "metadata": {},
   "source": [
    "Se observó que las medianas del tiempo de atención por delegación oscilan al rededor de la media muestral original, y no difieren demasiado entre ellas. "
   ]
  },
  {
   "cell_type": "markdown",
   "metadata": {},
   "source": [
    "### Clase de incidente \n",
    "\n",
    "El c4 clasifica los reportes en 4 clases dependiendo de la gravedad de la situación, las cuales son:\n",
    "* Emergencias\n",
    "* Urgencias médicas\n",
    "* Delitos\n",
    "* Flasas alarmas\n",
    "\n",
    "El análisis exploratorio por clase se realizó para ver si este grado de emergencia influye directamente en el tiempo de atencion. "
   ]
  },
  {
   "cell_type": "code",
   "execution_count": 134,
   "metadata": {},
   "outputs": [],
   "source": [
    "by_clase = df_filtered.groupby('folio')[['tiempo_atencion', 'latitud', 'longitud']].last()\n",
    "clase = df.groupby('folio')['clas_con_f_alarma'].last()\n",
    "merged = by_clase.merge(clase, left_index=True, right_index=True)"
   ]
  },
  {
   "cell_type": "code",
   "execution_count": 135,
   "metadata": {},
   "outputs": [
    {
     "data": {
      "image/png": "[encoded data removed]",
      "text/plain": [
       "<Figure size 576x288 with 1 Axes>"
      ]
     },
     "metadata": {},
     "output_type": "display_data"
    }
   ],
   "source": [
    "plt.figure(figsize=(8, 4))\n",
    "sns.boxplot(data=merged, x='clas_con_f_alarma', y='tiempo_atencion');\n",
    "plt.suptitle('Distribución de tiempo de atención por tipo de incidente');\n",
    "plt.xlabel('Clase de incidente');\n",
    "plt.ylabel('Tiempo de atención');\n",
    "plt.axhline(ta_filtered.median(), color='#000000');\n",
    "\n",
    "plt.savefig('img/ta_distribucion_clase.png')"
   ]
  },
  {
   "cell_type": "markdown",
   "metadata": {},
   "source": [
    "Se observó que el tiempo de atención para emergencias, urgencias y delitos es bastante cercano a la media muestral original. Sin embargo, las falsas alarmas son cerradas con mucha mayor prontitud. Lo anterior tiene sentido, ya que normalmente las falsas alarmas se detectan incluso antes de enviar unidades al sitio, o se identifican rápidamente estando ahí. "
   ]
  },
  {
   "cell_type": "markdown",
   "metadata": {},
   "source": [
    "### Características del incidente\n",
    "\n",
    "Las características del incicente clasifican los siniestros dependiendo de claves particulares que identifican la magnitud del accidente y el estado de los involucrados."
   ]
  },
  {
   "cell_type": "code",
   "execution_count": 137,
   "metadata": {},
   "outputs": [],
   "source": [
    "by_incidente = df_filtered.groupby('folio')[['tiempo_atencion', 'latitud', 'longitud']].last()\n",
    "clase = df.groupby('folio')['incidente_c4'].last()\n",
    "merged = by_clase.merge(clase, left_index=True, right_index=True)"
   ]
  },
  {
   "cell_type": "code",
   "execution_count": 138,
   "metadata": {},
   "outputs": [
    {
     "data": {
      "image/png": "[encoded data removed]",
      "text/plain": [
       "<Figure size 1080x288 with 1 Axes>"
      ]
     },
     "metadata": {},
     "output_type": "display_data"
    }
   ],
   "source": [
    "plt.figure(figsize=(15, 4))\n",
    "sns.boxplot(data=merged, x='incidente_c4', y='tiempo_atencion');\n",
    "plt.suptitle('Distribución de tiempo de atención por tipo de accidente');\n",
    "plt.xticks(rotation=90);\n",
    "plt.xlabel('Accidente');\n",
    "plt.ylabel('Tiempo de atención');\n",
    "plt.axhline(ta_filtered.median(), color='#000000');\n",
    "\n",
    "plt.savefig('img/ta_distribucion_tipo.png')"
   ]
  },
  {
   "cell_type": "markdown",
   "metadata": {},
   "source": [
    "Se encontró mayor variabilidad en cuanto al tiempo de atención entre los diferentes tipos de incidentes, así como una gran dispersión entre ellos. Dentro de la información más notable se puede observar que los incidentes que involucran cádaveres (por atropellamiento o colision entre vehiculos) suelen tardar mucho más en resolverse que la media general.Por otro lado los incidentes que involucran lesionados suelen tener mayoy variabilidad y outliers."
   ]
  },
  {
   "cell_type": "markdown",
   "metadata": {},
   "source": [
    "### Entrada del reporte\n",
    "\n",
    "Actualmente el c4 utiliza 8 herramientas de entrada para que civiles o autoridades viales levanten reportes de incidentes, las cuáles son:\n",
    "* Radio\n",
    "* Botón de auxilio\n",
    "* Cámara\n",
    "* Llamada del 911\n",
    "* Redes sociales\n",
    "* Aplicacion 911\n",
    "* Aplicación Zello\n",
    "* Aplicativos"
   ]
  },
  {
   "cell_type": "code",
   "execution_count": 139,
   "metadata": {},
   "outputs": [],
   "source": [
    "by_entrada = df_filtered.groupby('folio')[['tiempo_atencion', 'latitud', 'longitud']].last()\n",
    "entrada = df.groupby('folio')['tipo_entrada'].last()\n",
    "merged = by_clase.merge(entrada, left_index=True, right_index=True)"
   ]
  },
  {
   "cell_type": "code",
   "execution_count": 140,
   "metadata": {},
   "outputs": [
    {
     "data": {
      "image/png": "[encoded data removed]",
      "text/plain": [
       "<Figure size 864x288 with 1 Axes>"
      ]
     },
     "metadata": {},
     "output_type": "display_data"
    }
   ],
   "source": [
    "plt.figure(figsize=(12, 4))\n",
    "sns.boxplot(data=merged, x='tipo_entrada', y='tiempo_atencion');\n",
    "plt.suptitle('Distribución de tiempo de atención por entrada de reporte');\n",
    "plt.xlabel('Entrada de reporte');\n",
    "plt.ylabel('Tiempo de atención');\n",
    "plt.axhline(ta_filtered.median(), color='#000000');\n",
    "\n",
    "plt.savefig('img/ta_distribucion_entrada.png')"
   ]
  },
  {
   "cell_type": "markdown",
   "metadata": {},
   "source": [
    "# 3. Preguntas\n",
    "\n",
    "A partir de éste análisis exploratorio se encontraron algunas preguntas interesantes que podrían resolverse.\n",
    "\n",
    "* **¿Es realmente diferente el tiempo de atención entre delegaciones, tipos de incidentes, o medios de reporte?**\n",
    "* **¿El uso de aplicaciones móviles tiene un impacto en el tiempo de atención a los reportes?**\n",
    "* **En caso de tenerlo, ¿Es más eficiente que el reporte por métodos tradicionales como la llamada?**\n",
    "* **¿Existe una relación entre los factores antes mencionados que influya sobre el tiempo de atención?**\n",
    "\n",
    "Resolver estas interrogantes justificaría el desarrollo de un modelo que permita predecir los tiempos de atencion de un determinado accidente, o la probabilidad de que dicha llamada sea una falsa alarma. Estos modelos podrían ser de utilidad para evaluar el rendimiento de la autoridades competentes al resolver estos siniestros, así como la eficacia de nuevas propuestas que se tomen en la busqueda de disminuir el tiempo de atención a los reportes."
   ]
  },
  {
   "cell_type": "markdown",
   "metadata": {},
   "source": [
    "Para resolver adecuadamente estas preguntas se realizó una segunda limpieza del dataset que consistió en trabajar con un dataset que no hiciera distinción entre el tipo de aplicación utilizada (Zello, APP911, Aplicativos)"
   ]
  },
  {
   "cell_type": "code",
   "execution_count": 84,
   "metadata": {},
   "outputs": [],
   "source": [
    "df_filtered_bckup = df_filtered.copy()\n",
    "df_filtered.tipo_entrada = df_filtered.apply(lambda r: 'APLICATIVOS' if (r.tipo_entrada == 'ZELLO') | (r.tipo_entrada == 'LLAMADA APP911') else r.tipo_entrada, axis=1)"
   ]
  },
  {
   "cell_type": "markdown",
   "metadata": {},
   "source": [
    "## 4. Visualización cruzada"
   ]
  },
  {
   "cell_type": "markdown",
   "metadata": {},
   "source": [
    "### Tiempo de atencion por delegación y por clase"
   ]
  },
  {
   "cell_type": "code",
   "execution_count": 85,
   "metadata": {},
   "outputs": [],
   "source": [
    "by_delegacion_clase = df_filtered.groupby(['delegacion_inicio','clas_con_f_alarma'])[['tiempo_atencion']].median()\n",
    "by_delegacion_clase = by_delegacion_clase.unstack(1)"
   ]
  },
  {
   "cell_type": "code",
   "execution_count": 141,
   "metadata": {
    "scrolled": true
   },
   "outputs": [
    {
     "data": {
      "image/png": "[encoded data removed]",
      "text/plain": [
       "<Figure size 720x360 with 1 Axes>"
      ]
     },
     "metadata": {},
     "output_type": "display_data"
    }
   ],
   "source": [
    "fig = plt.figure(figsize=(10,5))\n",
    "ax = fig.add_subplot()\n",
    "\n",
    "plt1 = ax.bar(by_delegacion_clase.index, by_delegacion_clase['tiempo_atencion']['DELITO'], \n",
    "              #yerr= tiempo_atencion_iq_range,\n",
    "              label='DELITO')\n",
    "              #color=[\"#7788AA\",\"#4E638E\",\"#2E4372\",\"#152A55\"])\n",
    "    \n",
    "plt2 = ax.bar(by_delegacion_clase.index, by_delegacion_clase['tiempo_atencion']['URGENCIAS MEDICAS'], \n",
    "              bottom=by_delegacion_clase['tiempo_atencion']['DELITO']\n",
    "             )\n",
    "              #color=[\"#7788AA\",\"#4E638E\",\"#2E4372\",\"#152A55\"])\n",
    "    \n",
    "plt3 = ax.bar(by_delegacion_clase.index, by_delegacion_clase['tiempo_atencion']['EMERGENCIA'],\n",
    "              bottom=by_delegacion_clase['tiempo_atencion']['DELITO']+by_delegacion_clase['tiempo_atencion']['URGENCIAS MEDICAS'],\n",
    "              label='EMERGENCIA')\n",
    "              #color=[\"#FFD0AA\", \"#D4996A\", \"#AA6B39\", \"#804415\"])\n",
    "\n",
    "plt4 = ax.bar(by_delegacion_clase.index, by_delegacion_clase['tiempo_atencion']['FALSA ALARMA'], \n",
    "              bottom=by_delegacion_clase['tiempo_atencion']['EMERGENCIA']+by_delegacion_clase['tiempo_atencion']['DELITO']+by_delegacion_clase['tiempo_atencion']['URGENCIAS MEDICAS'])\n",
    "              #color=[\"#7788AA\",\"#4E638E\",\"#2E4372\",\"#152A55\"])\n",
    "\n",
    "ax.set_ylabel('Tiempo de atencion', fontsize=15);\n",
    "ax.set_xlabel('');\n",
    "plt.xticks(rotation=70);\n",
    "plt.legend((plt1[0], plt2[0], plt3[0], plt4[0]), ('Delito', 'Urgencias médicas', 'Emergencia', 'Falsa alarma'))\n",
    "ax.set_title('Tiempo de atencion por delegacion', fontsize=20, pad=10);\n",
    "\n",
    "plt.savefig('img/ta_delegacion_clase.png')"
   ]
  },
  {
   "cell_type": "markdown",
   "metadata": {},
   "source": [
    "### Tiempo de atención por delegación y entrada"
   ]
  },
  {
   "cell_type": "code",
   "execution_count": 87,
   "metadata": {},
   "outputs": [],
   "source": [
    "by_delegacion_entrada = df_filtered.groupby(['delegacion_inicio','tipo_entrada'])[['tiempo_atencion']].median()\n",
    "by_delegacion_entrada = by_delegacion_entrada.unstack(1)"
   ]
  },
  {
   "cell_type": "code",
   "execution_count": 142,
   "metadata": {},
   "outputs": [
    {
     "data": {
      "image/png": "[encoded data removed]",
      "text/plain": [
       "<Figure size 720x360 with 1 Axes>"
      ]
     },
     "metadata": {},
     "output_type": "display_data"
    }
   ],
   "source": [
    "fig = plt.figure(figsize=(10,5))\n",
    "ax = fig.add_subplot()\n",
    "\n",
    "plt1 = ax.bar(by_delegacion_entrada.index, by_delegacion_entrada['tiempo_atencion']['CÁMARA'], \n",
    "              label='CÁMARA')\n",
    "\n",
    "plt2 = ax.bar(by_delegacion_entrada.index, by_delegacion_entrada['tiempo_atencion']['RADIO'],\n",
    "              bottom=by_delegacion_entrada['tiempo_atencion']['CÁMARA']\n",
    "              )\n",
    "\n",
    "plt3 = ax.bar(by_delegacion_entrada.index, by_delegacion_entrada['tiempo_atencion']['BOTÓN DE AUXILIO'], \n",
    "              bottom=by_delegacion_entrada['tiempo_atencion']['CÁMARA']+by_delegacion_entrada['tiempo_atencion']['RADIO']\n",
    "             )\n",
    "    \n",
    "plt4 = ax.bar(by_delegacion_entrada.index, by_delegacion_entrada['tiempo_atencion']['LLAMADA DEL 911'], \n",
    "              bottom=by_delegacion_entrada['tiempo_atencion']['CÁMARA']+by_delegacion_entrada['tiempo_atencion']['BOTÓN DE AUXILIO']+by_delegacion_entrada['tiempo_atencion']['RADIO']\n",
    "             )\n",
    "\n",
    "plt5 = ax.bar(by_delegacion_entrada.index, by_delegacion_entrada['tiempo_atencion']['REDES'],\n",
    "              bottom=by_delegacion_entrada['tiempo_atencion']['CÁMARA']+by_delegacion_entrada['tiempo_atencion']['BOTÓN DE AUXILIO']+by_delegacion_entrada['tiempo_atencion']['LLAMADA DEL 911']+by_delegacion_entrada['tiempo_atencion']['RADIO']\n",
    "              )\n",
    "\n",
    "plt6 = ax.bar(by_delegacion_entrada.index, by_delegacion_entrada['tiempo_atencion']['APLICATIVOS'],\n",
    "              bottom=by_delegacion_entrada['tiempo_atencion']['CÁMARA']+by_delegacion_entrada['tiempo_atencion']['BOTÓN DE AUXILIO']+by_delegacion_entrada['tiempo_atencion']['LLAMADA DEL 911']+by_delegacion_entrada['tiempo_atencion']['RADIO']+by_delegacion_entrada['tiempo_atencion']['REDES']\n",
    "              )\n",
    "             \n",
    "ax.set_ylabel('Tiempo de atencion', fontsize=15);\n",
    "ax.set_ylim(0, 11)\n",
    "ax.set_xlabel('');\n",
    "plt.xticks(rotation=70);\n",
    "plt.legend((plt1[0], plt2[0], plt3[0], plt4[0], plt5[0], plt6[0]), ('Cámara', 'Radio', 'Botón auxilio', 'Llamada 911', 'Redes', 'Aplicaciones'))\n",
    "ax.set_title('Tiempo de atencion por delegacion', fontsize=20, pad=10);\n",
    "\n",
    "plt.savefig('img/ta_delegacion_entrada.png')"
   ]
  },
  {
   "cell_type": "markdown",
   "metadata": {},
   "source": [
    "# 5. A/B test sobre el uso de aplicaciones móviles para reportar incidentes viales"
   ]
  },
  {
   "cell_type": "markdown",
   "metadata": {},
   "source": [
    "El uso de aplicativos para levantar reportes es una medida implementada recién a partir del 2017."
   ]
  },
  {
   "cell_type": "code",
   "execution_count": 93,
   "metadata": {
    "scrolled": true
   },
   "outputs": [
    {
     "data": {
      "text/plain": [
       "2017"
      ]
     },
     "execution_count": 93,
     "metadata": {},
     "output_type": "execute_result"
    }
   ],
   "source": [
    "df_filtered[df_filtered.tipo_entrada == 'APLICATIVOS']['fecha_hora_creacion'].min().year"
   ]
  },
  {
   "cell_type": "markdown",
   "metadata": {},
   "source": [
    "Se evaluó si el uso de aplicaciones móviles optimiza el timepo de atencion a los incidentes en comparacion a los métodos convencionles (Llamada, cámara, radio o botón) utilizando la información registrada a partir del 2017. Se excluyeron arbitrariamente los reportes realizados mediante redes sociales pues no pertenencen a las categorías de interés."
   ]
  },
  {
   "cell_type": "code",
   "execution_count": 94,
   "metadata": {},
   "outputs": [
    {
     "data": {
      "text/html": [
       "<div>\n",
       "<style scoped>\n",
       "    .dataframe tbody tr th:only-of-type {\n",
       "        vertical-align: middle;\n",
       "    }\n",
       "\n",
       "    .dataframe tbody tr th {\n",
       "        vertical-align: top;\n",
       "    }\n",
       "\n",
       "    .dataframe thead th {\n",
       "        text-align: right;\n",
       "    }\n",
       "</style>\n",
       "<table border=\"1\" class=\"dataframe\">\n",
       "  <thead>\n",
       "    <tr style=\"text-align: right;\">\n",
       "      <th></th>\n",
       "      <th>delegacion_inicio</th>\n",
       "      <th>tipo_entrada</th>\n",
       "      <th>tiempo_atencion</th>\n",
       "    </tr>\n",
       "  </thead>\n",
       "  <tbody>\n",
       "    <tr>\n",
       "      <th>2</th>\n",
       "      <td>VENUSTIANO CARRANZA</td>\n",
       "      <td>LLAMADA DEL 911</td>\n",
       "      <td>3.054167</td>\n",
       "    </tr>\n",
       "    <tr>\n",
       "      <th>5</th>\n",
       "      <td>IZTAPALAPA</td>\n",
       "      <td>LLAMADA DEL 911</td>\n",
       "      <td>4.413889</td>\n",
       "    </tr>\n",
       "    <tr>\n",
       "      <th>8</th>\n",
       "      <td>IZTAPALAPA</td>\n",
       "      <td>LLAMADA DEL 911</td>\n",
       "      <td>1.930278</td>\n",
       "    </tr>\n",
       "    <tr>\n",
       "      <th>9</th>\n",
       "      <td>CUAJIMALPA</td>\n",
       "      <td>LLAMADA DEL 911</td>\n",
       "      <td>0.467222</td>\n",
       "    </tr>\n",
       "    <tr>\n",
       "      <th>12</th>\n",
       "      <td>MIGUEL HIDALGO</td>\n",
       "      <td>LLAMADA DEL 911</td>\n",
       "      <td>0.983889</td>\n",
       "    </tr>\n",
       "  </tbody>\n",
       "</table>\n",
       "</div>"
      ],
      "text/plain": [
       "      delegacion_inicio     tipo_entrada  tiempo_atencion\n",
       "2   VENUSTIANO CARRANZA  LLAMADA DEL 911         3.054167\n",
       "5            IZTAPALAPA  LLAMADA DEL 911         4.413889\n",
       "8            IZTAPALAPA  LLAMADA DEL 911         1.930278\n",
       "9            CUAJIMALPA  LLAMADA DEL 911         0.467222\n",
       "12       MIGUEL HIDALGO  LLAMADA DEL 911         0.983889"
      ]
     },
     "execution_count": 94,
     "metadata": {},
     "output_type": "execute_result"
    }
   ],
   "source": [
    "df_2017 = df_filtered[df_filtered.fecha_hora_creacion.dt.year > 2016][['delegacion_inicio', 'tipo_entrada', 'tiempo_atencion']]\n",
    "df_2017 = df_2017[df_2017.tipo_entrada != 'REDES']\n",
    "df_2017.head()"
   ]
  },
  {
   "cell_type": "markdown",
   "metadata": {},
   "source": [
    "Para este test se consideran dos formas de reporte distintos y se registra la media del tiempo de atención para cada una de ellas. El test A es la hipótesis alternativa (los reportes hechos por aplicativos), mientras que el test B es la hipótesis nula (los reportes levantados por métodos convencionales)."
   ]
  },
  {
   "cell_type": "code",
   "execution_count": 122,
   "metadata": {
    "scrolled": true
   },
   "outputs": [],
   "source": [
    "df_ab = df_2017.copy()\n",
    "df_ab['tipo_entrada_ab'] = df_ab.apply(lambda x: 'APLICATIVOS' if x['tipo_entrada'] == 'APLICATIVOS' else 'OTROS', axis=1)"
   ]
  },
  {
   "cell_type": "code",
   "execution_count": 123,
   "metadata": {},
   "outputs": [
    {
     "data": {
      "text/html": [
       "<div>\n",
       "<style scoped>\n",
       "    .dataframe tbody tr th:only-of-type {\n",
       "        vertical-align: middle;\n",
       "    }\n",
       "\n",
       "    .dataframe tbody tr th {\n",
       "        vertical-align: top;\n",
       "    }\n",
       "\n",
       "    .dataframe thead th {\n",
       "        text-align: right;\n",
       "    }\n",
       "</style>\n",
       "<table border=\"1\" class=\"dataframe\">\n",
       "  <thead>\n",
       "    <tr style=\"text-align: right;\">\n",
       "      <th></th>\n",
       "      <th>tiempo_atencion</th>\n",
       "      <th>velocidad_atencion</th>\n",
       "    </tr>\n",
       "    <tr>\n",
       "      <th>tipo_entrada_ab</th>\n",
       "      <th></th>\n",
       "      <th></th>\n",
       "    </tr>\n",
       "  </thead>\n",
       "  <tbody>\n",
       "    <tr>\n",
       "      <th>APLICATIVOS</th>\n",
       "      <td>0.851944</td>\n",
       "      <td>1.173785</td>\n",
       "    </tr>\n",
       "    <tr>\n",
       "      <th>OTROS</th>\n",
       "      <td>0.916667</td>\n",
       "      <td>1.090909</td>\n",
       "    </tr>\n",
       "  </tbody>\n",
       "</table>\n",
       "</div>"
      ],
      "text/plain": [
       "                 tiempo_atencion  velocidad_atencion\n",
       "tipo_entrada_ab                                     \n",
       "APLICATIVOS             0.851944            1.173785\n",
       "OTROS                   0.916667            1.090909"
      ]
     },
     "execution_count": 123,
     "metadata": {},
     "output_type": "execute_result"
    }
   ],
   "source": [
    "df_test = df_ab.groupby('tipo_entrada_ab')['tiempo_atencion'].median()\n",
    "df_test = pd.DataFrame(df_test)\n",
    "df_test['velocidad_atencion'] = 1 / df_test['tiempo_atencion']\n",
    "df_test"
   ]
  },
  {
   "cell_type": "markdown",
   "metadata": {},
   "source": [
    "En la tabla anterior parece que la mediana del timepo de atención es menor cuando el reporte se hizo mediante aplicativos en comparación a los métodos tradicionales. Es decir, que el test A es más veloz para resolver los incidentes que el test B"
   ]
  },
  {
   "cell_type": "code",
   "execution_count": 124,
   "metadata": {},
   "outputs": [
    {
     "name": "stdout",
     "output_type": "stream",
     "text": [
      "El tiempo de atencion en el test A (aplicativos) fue 7.06% más rápido que el control\n"
     ]
    }
   ],
   "source": [
    "diferencia = (1 - (df_test.loc['OTROS']['velocidad_atencion'] / df_test.loc['APLICATIVOS']['velocidad_atencion']))*100\n",
    "print(f'El tiempo de atencion en el test A (aplicativos) fue {round(diferencia,2)}% más rápido que el control')"
   ]
  },
  {
   "cell_type": "markdown",
   "metadata": {},
   "source": [
    "Se aplica un test de permutación para ver si el resultado es producto del azar"
   ]
  },
  {
   "cell_type": "code",
   "execution_count": 112,
   "metadata": {},
   "outputs": [],
   "source": [
    "df_all = df_ab[['delegacion_inicio', 'tiempo_atencion']] # Eliminar tipo de entrada\n",
    "value_counts = df_ab['tipo_entrada_ab'].value_counts()"
   ]
  },
  {
   "cell_type": "code",
   "execution_count": 113,
   "metadata": {},
   "outputs": [],
   "source": [
    "ta_a = []\n",
    "ta_b = []\n",
    "\n",
    "for _ in range(1000):\n",
    "    a = df.sample(value_counts.loc['APLICATIVOS'], replace=False)\n",
    "    ta_a.append(a['tiempo_atencion'].median())\n",
    "    \n",
    "    b = df_ab.loc[~df_ab.index.isin(a.index)]\n",
    "    ta_b.append(b['tiempo_atencion'].median())"
   ]
  },
  {
   "cell_type": "code",
   "execution_count": 117,
   "metadata": {},
   "outputs": [
    {
     "data": {
      "text/html": [
       "<div>\n",
       "<style scoped>\n",
       "    .dataframe tbody tr th:only-of-type {\n",
       "        vertical-align: middle;\n",
       "    }\n",
       "\n",
       "    .dataframe tbody tr th {\n",
       "        vertical-align: top;\n",
       "    }\n",
       "\n",
       "    .dataframe thead th {\n",
       "        text-align: right;\n",
       "    }\n",
       "</style>\n",
       "<table border=\"1\" class=\"dataframe\">\n",
       "  <thead>\n",
       "    <tr style=\"text-align: right;\">\n",
       "      <th></th>\n",
       "      <th>ta_APLICATIVOS</th>\n",
       "      <th>ta_OTROS</th>\n",
       "      <th>va_APLICATIVOS</th>\n",
       "      <th>va_OTROS</th>\n",
       "      <th>diff</th>\n",
       "    </tr>\n",
       "  </thead>\n",
       "  <tbody>\n",
       "    <tr>\n",
       "      <th>0</th>\n",
       "      <td>1.054861</td>\n",
       "      <td>0.915278</td>\n",
       "      <td>0.947992</td>\n",
       "      <td>1.092564</td>\n",
       "      <td>-0.152504</td>\n",
       "    </tr>\n",
       "    <tr>\n",
       "      <th>1</th>\n",
       "      <td>1.042083</td>\n",
       "      <td>0.915278</td>\n",
       "      <td>0.959616</td>\n",
       "      <td>1.092564</td>\n",
       "      <td>-0.138543</td>\n",
       "    </tr>\n",
       "    <tr>\n",
       "      <th>2</th>\n",
       "      <td>1.045278</td>\n",
       "      <td>0.915278</td>\n",
       "      <td>0.956683</td>\n",
       "      <td>1.092564</td>\n",
       "      <td>-0.142033</td>\n",
       "    </tr>\n",
       "    <tr>\n",
       "      <th>3</th>\n",
       "      <td>1.069306</td>\n",
       "      <td>0.915000</td>\n",
       "      <td>0.935186</td>\n",
       "      <td>1.092896</td>\n",
       "      <td>-0.168640</td>\n",
       "    </tr>\n",
       "    <tr>\n",
       "      <th>4</th>\n",
       "      <td>1.074444</td>\n",
       "      <td>0.915000</td>\n",
       "      <td>0.930714</td>\n",
       "      <td>1.092896</td>\n",
       "      <td>-0.174256</td>\n",
       "    </tr>\n",
       "    <tr>\n",
       "      <th>...</th>\n",
       "      <td>...</td>\n",
       "      <td>...</td>\n",
       "      <td>...</td>\n",
       "      <td>...</td>\n",
       "      <td>...</td>\n",
       "    </tr>\n",
       "    <tr>\n",
       "      <th>995</th>\n",
       "      <td>1.055556</td>\n",
       "      <td>0.915278</td>\n",
       "      <td>0.947368</td>\n",
       "      <td>1.092564</td>\n",
       "      <td>-0.153263</td>\n",
       "    </tr>\n",
       "    <tr>\n",
       "      <th>996</th>\n",
       "      <td>1.033611</td>\n",
       "      <td>0.915278</td>\n",
       "      <td>0.967482</td>\n",
       "      <td>1.092564</td>\n",
       "      <td>-0.129287</td>\n",
       "    </tr>\n",
       "    <tr>\n",
       "      <th>997</th>\n",
       "      <td>1.045139</td>\n",
       "      <td>0.915556</td>\n",
       "      <td>0.956811</td>\n",
       "      <td>1.092233</td>\n",
       "      <td>-0.141535</td>\n",
       "    </tr>\n",
       "    <tr>\n",
       "      <th>998</th>\n",
       "      <td>1.048194</td>\n",
       "      <td>0.915278</td>\n",
       "      <td>0.954021</td>\n",
       "      <td>1.092564</td>\n",
       "      <td>-0.145220</td>\n",
       "    </tr>\n",
       "    <tr>\n",
       "      <th>999</th>\n",
       "      <td>1.026806</td>\n",
       "      <td>0.915556</td>\n",
       "      <td>0.973894</td>\n",
       "      <td>1.092233</td>\n",
       "      <td>-0.121511</td>\n",
       "    </tr>\n",
       "  </tbody>\n",
       "</table>\n",
       "<p>1000 rows × 5 columns</p>\n",
       "</div>"
      ],
      "text/plain": [
       "     ta_APLICATIVOS  ta_OTROS  va_APLICATIVOS  va_OTROS      diff\n",
       "0          1.054861  0.915278        0.947992  1.092564 -0.152504\n",
       "1          1.042083  0.915278        0.959616  1.092564 -0.138543\n",
       "2          1.045278  0.915278        0.956683  1.092564 -0.142033\n",
       "3          1.069306  0.915000        0.935186  1.092896 -0.168640\n",
       "4          1.074444  0.915000        0.930714  1.092896 -0.174256\n",
       "..              ...       ...             ...       ...       ...\n",
       "995        1.055556  0.915278        0.947368  1.092564 -0.153263\n",
       "996        1.033611  0.915278        0.967482  1.092564 -0.129287\n",
       "997        1.045139  0.915556        0.956811  1.092233 -0.141535\n",
       "998        1.048194  0.915278        0.954021  1.092564 -0.145220\n",
       "999        1.026806  0.915556        0.973894  1.092233 -0.121511\n",
       "\n",
       "[1000 rows x 5 columns]"
      ]
     },
     "execution_count": 117,
     "metadata": {},
     "output_type": "execute_result"
    }
   ],
   "source": [
    "perm_results = pd.DataFrame({\n",
    "    'ta_APLICATIVOS': ta_a,\n",
    "    'ta_OTROS': ta_b\n",
    "})\n",
    "\n",
    "perm_results['va_APLICATIVOS'] = 1 / perm_results['ta_APLICATIVOS']\n",
    "perm_results['va_OTROS'] = 1 / perm_results['ta_OTROS']\n",
    "perm_results['diff'] = 1 - (perm_results.va_OTROS / perm_results.va_APLICATIVOS)\n",
    "perm_results"
   ]
  },
  {
   "cell_type": "code",
   "execution_count": 143,
   "metadata": {},
   "outputs": [
    {
     "data": {
      "image/png": "[encoded data removed]",
      "text/plain": [
       "<Figure size 432x288 with 1 Axes>"
      ]
     },
     "metadata": {},
     "output_type": "display_data"
    }
   ],
   "source": [
    "P = (perm_results['diff'] >= diferencia/100).sum() / perm_results.shape[0]\n",
    "sns.distplot(perm_results['diff'], kde=False, norm_hist=False);\n",
    "plt.axvline(diferencia/100);\n",
    "props = dict(boxstyle='round', facecolor='wheat', alpha=0.5);\n",
    "plt.text(0, 100, f'P value = {P}', fontsize=14, verticalalignment='top', bbox=props);\n",
    "plt.xlabel('Diferencia entre las medianas de la velocidad de atención');\n",
    "plt.ylabel('Frecuencia')\n",
    "\n",
    "plt.savefig('img/ta_test_ab.png')"
   ]
  },
  {
   "cell_type": "markdown",
   "metadata": {},
   "source": [
    "Esto quiere decir que ninguno de las diferencias obtenidas aleatoreamente es más extrema que la calculada originalmente. Es decir que el valor proporcionado por los datos originales es atípico para ser un valor causado por el azar y por tanto es estadísticamente significativo. Con un p<0.1 rechazamos la  hipótesis nula."
   ]
  }
 ],
 "metadata": {
  "kernelspec": {
   "display_name": "Python 3",
   "language": "python",
   "name": "python3"
  },
  "language_info": {
   "codemirror_mode": {
    "name": "ipython",
    "version": 3
   },
   "file_extension": ".py",
   "mimetype": "text/x-python",
   "name": "python",
   "nbconvert_exporter": "python",
   "pygments_lexer": "ipython3",
   "version": "3.8.3"
  }
 },
 "nbformat": 4,
 "nbformat_minor": 4
}
