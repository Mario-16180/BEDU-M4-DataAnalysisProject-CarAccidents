{
 "cells": [
  {
   "cell_type": "markdown",
   "metadata": {
    "id": "aBYm7Zd5mkkh"
   },
   "source": [
    "## Clustering de geopoints por DBSCAN"
   ]
  },
  {
   "cell_type": "markdown",
   "metadata": {
    "id": "h9sSkenWmcOQ"
   },
   "source": [
    "\n",
    "### Objetivos:\n",
    "- Aplicar el algoritmo DBSCAN para obtener zonas de alta densidad de accidentes vehiculares en la CDMX.\n",
    "    \n",
    "### Desarrollo:\n",
    "- Indicar un radio $\\varepsilon=500$m que tendrá la vecindad. \n",
    "- Indicar el número mínimo de accidentes que tendrá la vecindad $min=5$ para ser conciderada una coordenada **significativa**  \n",
    "\n"
   ]
  },
  {
   "cell_type": "code",
   "execution_count": 2,
   "metadata": {
    "id": "rfoMbWTlmNDC"
   },
   "outputs": [],
   "source": [
    "import pandas as pd\n",
    "import matplotlib.pyplot as plt\n",
    "import seaborn as sns\n",
    "import numpy as np"
   ]
  },
  {
   "cell_type": "code",
   "execution_count": 6,
   "metadata": {
    "id": "I3d7U0xbm2as"
   },
   "outputs": [],
   "source": [
    "df = pd.read_csv(\"data/incidentes-viales-c5-limpio.zip\", sep=\"$\", index_col=0)"
   ]
  },
  {
   "cell_type": "code",
   "execution_count": 7,
   "metadata": {
    "colab": {
     "base_uri": "https://localhost:8080/",
     "height": 360
    },
    "id": "UEPfbllmnFAl",
    "outputId": "bff5b104-e33b-4ef3-dae6-3ad3ef2c5536"
   },
   "outputs": [
    {
     "data": {
      "text/html": [
       "<div>\n",
       "<style scoped>\n",
       "    .dataframe tbody tr th:only-of-type {\n",
       "        vertical-align: middle;\n",
       "    }\n",
       "\n",
       "    .dataframe tbody tr th {\n",
       "        vertical-align: top;\n",
       "    }\n",
       "\n",
       "    .dataframe thead th {\n",
       "        text-align: right;\n",
       "    }\n",
       "</style>\n",
       "<table border=\"1\" class=\"dataframe\">\n",
       "  <thead>\n",
       "    <tr style=\"text-align: right;\">\n",
       "      <th></th>\n",
       "      <th>folio</th>\n",
       "      <th>codigo_cierre</th>\n",
       "      <th>delegacion_inicio</th>\n",
       "      <th>incidente_c4</th>\n",
       "      <th>latitud</th>\n",
       "      <th>longitud</th>\n",
       "      <th>clas_con_f_alarma</th>\n",
       "      <th>tipo_entrada</th>\n",
       "      <th>delegacion_cierre</th>\n",
       "      <th>mes</th>\n",
       "      <th>fecha_hora_cierre</th>\n",
       "      <th>fecha_hora_creacion</th>\n",
       "    </tr>\n",
       "  </thead>\n",
       "  <tbody>\n",
       "    <tr>\n",
       "      <th>693675</th>\n",
       "      <td>C5/210228/09218</td>\n",
       "      <td>N</td>\n",
       "      <td>MIGUEL HIDALGO</td>\n",
       "      <td>accidente-motociclista</td>\n",
       "      <td>19.392430</td>\n",
       "      <td>-99.239100</td>\n",
       "      <td>URGENCIAS MEDICAS</td>\n",
       "      <td>LLAMADA DEL 911</td>\n",
       "      <td>MIGUEL HIDALGO</td>\n",
       "      <td>2</td>\n",
       "      <td>2021-02-28 22:50:09</td>\n",
       "      <td>2021-02-28 22:23:07</td>\n",
       "    </tr>\n",
       "    <tr>\n",
       "      <th>693688</th>\n",
       "      <td>C5/210228/09309</td>\n",
       "      <td>N</td>\n",
       "      <td>IZTAPALAPA</td>\n",
       "      <td>accidente-choque sin lesionados</td>\n",
       "      <td>19.349940</td>\n",
       "      <td>-99.066890</td>\n",
       "      <td>EMERGENCIA</td>\n",
       "      <td>LLAMADA DEL 911</td>\n",
       "      <td>IZTAPALAPA</td>\n",
       "      <td>2</td>\n",
       "      <td>2021-02-28 23:44:19</td>\n",
       "      <td>2021-02-28 22:24:48</td>\n",
       "    </tr>\n",
       "    <tr>\n",
       "      <th>693689</th>\n",
       "      <td>C5/210228/09401</td>\n",
       "      <td>N</td>\n",
       "      <td>GUSTAVO A. MADERO</td>\n",
       "      <td>lesionado-atropellado</td>\n",
       "      <td>19.491660</td>\n",
       "      <td>-99.092150</td>\n",
       "      <td>URGENCIAS MEDICAS</td>\n",
       "      <td>LLAMADA DEL 911</td>\n",
       "      <td>GUSTAVO A. MADERO</td>\n",
       "      <td>2</td>\n",
       "      <td>2021-02-28 22:58:58</td>\n",
       "      <td>2021-02-28 22:45:49</td>\n",
       "    </tr>\n",
       "    <tr>\n",
       "      <th>693691</th>\n",
       "      <td>C5/210228/09417</td>\n",
       "      <td>A</td>\n",
       "      <td>AZCAPOTZALCO</td>\n",
       "      <td>accidente-choque sin lesionados</td>\n",
       "      <td>19.481660</td>\n",
       "      <td>-99.218560</td>\n",
       "      <td>EMERGENCIA</td>\n",
       "      <td>LLAMADA DEL 911</td>\n",
       "      <td>AZCAPOTZALCO</td>\n",
       "      <td>2</td>\n",
       "      <td>2021-02-28 23:48:19</td>\n",
       "      <td>2021-02-28 22:48:36</td>\n",
       "    </tr>\n",
       "    <tr>\n",
       "      <th>693692</th>\n",
       "      <td>IZ/210228/07916</td>\n",
       "      <td>A</td>\n",
       "      <td>XOCHIMILCO</td>\n",
       "      <td>accidente-choque sin lesionados</td>\n",
       "      <td>19.244195</td>\n",
       "      <td>-99.108017</td>\n",
       "      <td>EMERGENCIA</td>\n",
       "      <td>BOTÓN DE AUXILIO</td>\n",
       "      <td>XOCHIMILCO</td>\n",
       "      <td>2</td>\n",
       "      <td>2021-02-28 20:17:58</td>\n",
       "      <td>2021-02-28 19:46:33</td>\n",
       "    </tr>\n",
       "  </tbody>\n",
       "</table>\n",
       "</div>"
      ],
      "text/plain": [
       "                  folio codigo_cierre  delegacion_inicio  \\\n",
       "693675  C5/210228/09218             N     MIGUEL HIDALGO   \n",
       "693688  C5/210228/09309             N         IZTAPALAPA   \n",
       "693689  C5/210228/09401             N  GUSTAVO A. MADERO   \n",
       "693691  C5/210228/09417             A       AZCAPOTZALCO   \n",
       "693692  IZ/210228/07916             A         XOCHIMILCO   \n",
       "\n",
       "                           incidente_c4    latitud   longitud  \\\n",
       "693675           accidente-motociclista  19.392430 -99.239100   \n",
       "693688  accidente-choque sin lesionados  19.349940 -99.066890   \n",
       "693689            lesionado-atropellado  19.491660 -99.092150   \n",
       "693691  accidente-choque sin lesionados  19.481660 -99.218560   \n",
       "693692  accidente-choque sin lesionados  19.244195 -99.108017   \n",
       "\n",
       "        clas_con_f_alarma      tipo_entrada  delegacion_cierre  mes  \\\n",
       "693675  URGENCIAS MEDICAS   LLAMADA DEL 911     MIGUEL HIDALGO    2   \n",
       "693688         EMERGENCIA   LLAMADA DEL 911         IZTAPALAPA    2   \n",
       "693689  URGENCIAS MEDICAS   LLAMADA DEL 911  GUSTAVO A. MADERO    2   \n",
       "693691         EMERGENCIA   LLAMADA DEL 911       AZCAPOTZALCO    2   \n",
       "693692         EMERGENCIA  BOTÓN DE AUXILIO         XOCHIMILCO    2   \n",
       "\n",
       "          fecha_hora_cierre  fecha_hora_creacion  \n",
       "693675  2021-02-28 22:50:09  2021-02-28 22:23:07  \n",
       "693688  2021-02-28 23:44:19  2021-02-28 22:24:48  \n",
       "693689  2021-02-28 22:58:58  2021-02-28 22:45:49  \n",
       "693691  2021-02-28 23:48:19  2021-02-28 22:48:36  \n",
       "693692  2021-02-28 20:17:58  2021-02-28 19:46:33  "
      ]
     },
     "execution_count": 7,
     "metadata": {},
     "output_type": "execute_result"
    }
   ],
   "source": [
    "df.tail()"
   ]
  },
  {
   "cell_type": "markdown",
   "metadata": {
    "id": "qRzJV0ycnMJ8"
   },
   "source": [
    "#### Conversión de GPS a matriz de distancias y clustering con DBSCAN"
   ]
  },
  {
   "cell_type": "code",
   "execution_count": 9,
   "metadata": {
    "id": "xeW0f7EgnHur"
   },
   "outputs": [],
   "source": [
    "from sklearn.cluster import DBSCAN\n",
    "from geopy.distance import great_circle\n",
    "from shapely.geometry import MultiPoint"
   ]
  },
  {
   "cell_type": "code",
   "execution_count": 10,
   "metadata": {
    "colab": {
     "base_uri": "https://localhost:8080/"
    },
    "id": "hgAqvmWpnZsV",
    "outputId": "6ead099d-2fee-47bb-99c4-74167b8eb399"
   },
   "outputs": [
    {
     "name": "stdout",
     "output_type": "stream",
     "text": [
      "Number of clusters: 44\n"
     ]
    }
   ],
   "source": [
    "coords = df[['latitud', 'longitud']].values\n",
    "kms_per_radian = 6371.0088\n",
    "epsilon = 0.5 / kms_per_radian\n",
    "db = DBSCAN(eps=epsilon, min_samples=5, algorithm='ball_tree', metric='haversine').fit(np.radians(coords))\n",
    "cluster_labels = db.labels_\n",
    "num_clusters = len(set(cluster_labels)) # Number of cluster with no noise \n",
    "# num_clusters = len(set(labels)) - (1 if -1 in labels else 0) # Number of cluster with noise\n",
    "clusters = pd.Series([coords[cluster_labels == n] for n in range(num_clusters)])\n",
    "print('Number of clusters: {}'.format(num_clusters))"
   ]
  },
  {
   "cell_type": "code",
   "execution_count": 19,
   "metadata": {
    "colab": {
     "base_uri": "https://localhost:8080/",
     "height": 358
    },
    "id": "1ySFcG5LnZ59",
    "outputId": "50d94265-275f-4486-83b0-a15b8b0974ba"
   },
   "outputs": [
    {
     "name": "stderr",
     "output_type": "stream",
     "text": [
      "C:\\Users\\acer\\AppData\\Local\\Programs\\Python\\Python39\\lib\\site-packages\\seaborn\\_decorators.py:36: FutureWarning: Pass the following variables as keyword args: x, y. From version 0.12, the only valid positional argument will be `data`, and passing other arguments without an explicit keyword will result in an error or misinterpretation.\n",
      "  warnings.warn(\n"
     ]
    },
    {
     "data": {
      "image/png": "[encoded data removed]",
      "text/plain": [
       "<Figure size 432x288 with 1 Axes>"
      ]
     },
     "metadata": {
      "needs_background": "light"
     },
     "output_type": "display_data"
    }
   ],
   "source": [
    "fig = plt.figure()\n",
    "ax = fig.add_subplot()\n",
    "\n",
    "ax.set_title('Locación de cluster', pad=15)\n",
    "ax.set_xlabel('latitud')\n",
    "ax.set_ylabel('longitud')\n",
    "\n",
    "sns.scatterplot(df['latitud'], df['longitud'], ax=ax, hue=cluster_labels, palette='rainbow');\n",
    "# sns.scatterplot(labels[:,0], labels[:,1], ax=ax, s=100, color='black');\n",
    "\n",
    "ax.get_legend().remove()"
   ]
  },
  {
   "cell_type": "markdown",
   "metadata": {
    "id": "PmDlC5zYoO-h"
   },
   "source": [
    "#### Encontrar el punto más cercano a cada cluster"
   ]
  },
  {
   "cell_type": "code",
   "execution_count": 20,
   "metadata": {
    "id": "r6SagWVwoD0Y"
   },
   "outputs": [],
   "source": [
    "def get_centermost_point(cluster):\n",
    "    centroid = (MultiPoint(cluster).centroid.x, MultiPoint(cluster).centroid.y)\n",
    "    centermost_point = min(cluster, key=lambda point: great_circle(point, centroid).m)\n",
    "    return tuple(centermost_point)"
   ]
  },
  {
   "cell_type": "code",
   "execution_count": 21,
   "metadata": {
    "id": "slp-O7iFoWaq"
   },
   "outputs": [],
   "source": [
    "centermost_points = clusters[:len(clusters)-1].map(get_centermost_point)"
   ]
  },
  {
   "cell_type": "code",
   "execution_count": 23,
   "metadata": {
    "id": "hismJclkoXxq"
   },
   "outputs": [],
   "source": [
    "lats, lons = zip(*centermost_points)\n",
    "rep_points = pd.DataFrame({'latitud':lats, 'longitud':lons})"
   ]
  },
  {
   "cell_type": "code",
   "execution_count": 25,
   "metadata": {
    "colab": {
     "base_uri": "https://localhost:8080/",
     "height": 358
    },
    "id": "nORVA8dUodOa",
    "outputId": "eab59cff-6705-4224-cac9-4825a46a8212"
   },
   "outputs": [
    {
     "name": "stderr",
     "output_type": "stream",
     "text": [
      "C:\\Users\\acer\\AppData\\Local\\Programs\\Python\\Python39\\lib\\site-packages\\seaborn\\_decorators.py:36: FutureWarning: Pass the following variables as keyword args: x, y. From version 0.12, the only valid positional argument will be `data`, and passing other arguments without an explicit keyword will result in an error or misinterpretation.\n",
      "  warnings.warn(\n"
     ]
    },
    {
     "data": {
      "image/png": "[encoded data removed]",
      "text/plain": [
       "<Figure size 432x288 with 1 Axes>"
      ]
     },
     "metadata": {
      "needs_background": "light"
     },
     "output_type": "display_data"
    }
   ],
   "source": [
    "fig = plt.figure()\n",
    "ax = fig.add_subplot()\n",
    "\n",
    "ax.set_title('Locación de cluster', pad=15)\n",
    "ax.set_xlabel('latitud')\n",
    "ax.set_ylabel('longitud')\n",
    "\n",
    "sns.scatterplot(rep_points['latitud'], rep_points['longitud'], ax=ax);\n",
    "# sns.scatterplot(labels[:,0], labels[:,1], ax=ax, s=100, color='black');"
   ]
  },
  {
   "cell_type": "code",
   "execution_count": 23,
   "metadata": {
    "id": "sefcaXGzs81W"
   },
   "outputs": [],
   "source": [
    "# Guardamos las coordenadas de los puntos con mayor densidad \n",
    "rep_points.to_csv(\"most_dangerous_geop.csv\")"
   ]
  },
  {
   "cell_type": "markdown",
   "metadata": {
    "id": "YeyG3uIwqK51"
   },
   "source": [
    "#### Graficar Gmap"
   ]
  },
  {
   "cell_type": "code",
   "execution_count": 2,
   "metadata": {
    "id": "dvIn0FPHqOM1"
   },
   "outputs": [],
   "source": [
    "import gmaps"
   ]
  },
  {
   "cell_type": "code",
   "execution_count": 7,
   "metadata": {
    "id": "6AYrhvzHqLNd"
   },
   "outputs": [],
   "source": [
    "f = open(\"key.txt\")\n",
    "api_token = f.read() \n",
    "gmaps.configure(api_key=api_token)"
   ]
  },
  {
   "cell_type": "markdown",
   "metadata": {},
   "source": [
    "##### Heatmap"
   ]
  },
  {
   "cell_type": "code",
   "execution_count": 32,
   "metadata": {},
   "outputs": [],
   "source": [
    "#Cargamos labels \n",
    "dbscan_labels = pd.read_csv(\"data/dbscan_labels.csv\", sep=\",\", index_col=0)"
   ]
  },
  {
   "cell_type": "code",
   "execution_count": 33,
   "metadata": {},
   "outputs": [],
   "source": [
    "def labels_to_weights(label):\n",
    "    if label == -1:\n",
    "        return 0\n",
    "    elif label == 0:\n",
    "        return 1\n",
    "    else:\n",
    "        return label        "
   ]
  },
  {
   "cell_type": "code",
   "execution_count": 37,
   "metadata": {},
   "outputs": [],
   "source": [
    "df['labels'] = dbscan_labels['label'].map(labels_to_weights) "
   ]
  },
  {
   "cell_type": "code",
   "execution_count": 38,
   "metadata": {},
   "outputs": [
    {
     "data": {
      "application/vnd.jupyter.widget-view+json": {
       "model_id": "48c4f6614c134042b9de2896bcf61834",
       "version_major": 2,
       "version_minor": 0
      },
      "text/plain": [
       "Figure(layout=FigureLayout(height='420px'))"
      ]
     },
     "metadata": {},
     "output_type": "display_data"
    }
   ],
   "source": [
    "locations = df[['latitud', 'longitud']]\n",
    "weights = dbscan_labels\n",
    "fig = gmaps.figure()\n",
    "fig.add_layer(gmaps.heatmap_layer(locations, weights=df['labels']))\n",
    "fig"
   ]
  },
  {
   "cell_type": "markdown",
   "metadata": {},
   "source": [
    "<img src=\"img/heatmap.png\" alt=\"Maps\">"
   ]
  },
  {
   "cell_type": "markdown",
   "metadata": {},
   "source": [
    "##### Top puntos significativos"
   ]
  },
  {
   "cell_type": "code",
   "execution_count": 39,
   "metadata": {},
   "outputs": [],
   "source": [
    "#Cargamos coordenadas significativas \n",
    "df = pd.read_csv(\"data/most_dangerous_geop.csv\", sep=\",\", index_col=0)"
   ]
  },
  {
   "cell_type": "code",
   "execution_count": 40,
   "metadata": {},
   "outputs": [
    {
     "data": {
      "application/vnd.jupyter.widget-view+json": {
       "model_id": "37b7d89c2edd4ea88a6da204d9e1e450",
       "version_major": 2,
       "version_minor": 0
      },
      "text/plain": [
       "Figure(layout=FigureLayout(height='420px'))"
      ]
     },
     "metadata": {},
     "output_type": "display_data"
    }
   ],
   "source": [
    "top_dangerous_geopoints=tuple(zip(df['latitud'], df['longitud']))\n",
    "fig = gmaps.figure()\n",
    "markers = gmaps.marker_layer(top_dangerous_geopoints)\n",
    "fig.add_layer(markers)\n",
    "fig"
   ]
  },
  {
   "cell_type": "markdown",
   "metadata": {},
   "source": [
    "<img src=\"img/map_most_icon_foto.png\" alt=\"Maps\">"
   ]
  },
  {
   "cell_type": "markdown",
   "metadata": {},
   "source": [
    "Se observa que los puntos con mayor densidad de accidentes ocurren en carreteras. "
   ]
  },
  {
   "cell_type": "markdown",
   "metadata": {},
   "source": [
    "#### Reverse geocoding"
   ]
  },
  {
   "cell_type": "code",
   "execution_count": 44,
   "metadata": {},
   "outputs": [],
   "source": [
    "import googlemaps"
   ]
  },
  {
   "cell_type": "code",
   "execution_count": 45,
   "metadata": {},
   "outputs": [],
   "source": [
    "f = open(\"key.txt\")\n",
    "api_token = f.read() \n",
    "gsdk = googlemaps.Client(key=api_token)"
   ]
  },
  {
   "cell_type": "markdown",
   "metadata": {},
   "source": []
  },
  {
   "cell_type": "code",
   "execution_count": null,
   "metadata": {},
   "outputs": [],
   "source": [
    "reverse_geocode_result = gsdk.reverse_geocode(top_dangerous_geopoints[0])\n",
    "reverse_geocode_result\n"
   ]
  },
  {
   "cell_type": "markdown",
   "metadata": {},
   "source": [
    "Con una geo decodificación se podría obtener dada un par de coordenas una descripción de las direcciones y avenidas. Sin embargo, ésta información tiene un costo asociado con el servidor de google. \n",
    "De obtener la información se podrían usar algoritmos de NPL"
   ]
  },
  {
   "cell_type": "code",
   "execution_count": 1,
   "metadata": {},
   "outputs": [],
   "source": [
    "from geopy.geocoders import Nominatim"
   ]
  },
  {
   "cell_type": "code",
   "execution_count": 42,
   "metadata": {},
   "outputs": [
    {
     "name": "stdout",
     "output_type": "stream",
     "text": [
      "Dirección: 30, Calle Elvira, Nativitas, Benito Juárez, Ciudad de México, 03500, México\n",
      "Datos:\n",
      "{'house_number': '30', 'road': 'Calle Elvira', 'neighbourhood': 'Nativitas', 'city': 'Ciudad de México', 'postcode': '03500', 'country': 'México', 'country_code': 'mx'} \n",
      "\n",
      "Dirección: Calle Federal México-Cuernavaca, Tlalpan, San Miguel Topilejo, Ciudad de México, 14500, México\n",
      "Datos:\n",
      "{'road': 'Calle Federal México-Cuernavaca', 'neighbourhood': 'Tlalpan', 'town': 'San Miguel Topilejo', 'city': 'Ciudad de México', 'postcode': '14500', 'country': 'México', 'country_code': 'mx'} \n",
      "\n",
      "Dirección: Calle Federal México-Cuernavaca, Tlalpan, San Miguel Topilejo, Ciudad de México, 14500, México\n",
      "Datos:\n",
      "{'road': 'Calle Federal México-Cuernavaca', 'neighbourhood': 'Tlalpan', 'town': 'San Miguel Topilejo', 'city': 'Ciudad de México', 'postcode': '14500', 'country': 'México', 'country_code': 'mx'} \n",
      "\n",
      "Dirección: Avenida Fabián Flores, Barrio Centro, Milpa Alta, Ciudad de México, 12400, México\n",
      "Datos:\n",
      "{'road': 'Avenida Fabián Flores', 'neighbourhood': 'Barrio Centro', 'town': 'Milpa Alta', 'city': 'Ciudad de México', 'postcode': '12400', 'country': 'México', 'country_code': 'mx'} \n",
      "\n",
      "Dirección: Avenida Agricultura, Pueblo Santa Catarina Yecahuizotl, Valle de Chalco Solidaridad, Estado de México, 13100, México\n",
      "Datos:\n",
      "{'road': 'Avenida Agricultura', 'neighbourhood': 'Pueblo Santa Catarina Yecahuizotl', 'city': 'Valle de Chalco Solidaridad', 'state': 'Estado de México', 'postcode': '13100', 'country': 'México', 'country_code': 'mx'} \n",
      "\n",
      "Dirección: Carretera Libre Toluca - México, Cola de Pato, Cuajimalpa de Morelos, Ciudad de México, 05750, México\n",
      "Datos:\n",
      "{'road': 'Carretera Libre Toluca - México', 'neighbourhood': 'Cola de Pato', 'city': 'Ciudad de México', 'postcode': '05750', 'country': 'México', 'country_code': 'mx'} \n",
      "\n",
      "Dirección: Carretera Federal México-Cuernavaca, Tlalpan, Ciudad de México, 149000, México\n",
      "Datos:\n",
      "{'road': 'Carretera Federal México-Cuernavaca', 'neighbourhood': 'Tlalpan', 'city': 'Ciudad de México', 'postcode': '149000', 'country': 'México', 'country_code': 'mx'} \n",
      "\n",
      "Dirección: Sendero de los Hermanos Descalzos, Cuajimalpa de Morelos, Ciudad de México, 05730, México\n",
      "Datos:\n",
      "{'road': 'Sendero de los Hermanos Descalzos', 'neighbourhood': 'Cuajimalpa de Morelos', 'city': 'Ciudad de México', 'postcode': '05730', 'country': 'México', 'country_code': 'mx'} \n",
      "\n",
      "Dirección: Carretera San Gregorio-Oaxtepec, Milpa Alta, Ciudad de México, Juchitepec, Estado de México, 12930, México\n",
      "Datos:\n",
      "{'road': 'Carretera San Gregorio-Oaxtepec', 'town': 'Milpa Alta', 'city': 'Ciudad de México', 'county': 'Juchitepec', 'state': 'Estado de México', 'postcode': '12930', 'country': 'México', 'country_code': 'mx'} \n",
      "\n",
      "Dirección: Camino a las Canteras, El Arenal, Xochimilco, San Miguel Topilejo, Ciudad de México, 16808, México\n",
      "Datos:\n",
      "{'road': 'Camino a las Canteras', 'neighbourhood': 'El Arenal', 'town': 'San Miguel Topilejo', 'city': 'Ciudad de México', 'postcode': '16808', 'country': 'México', 'country_code': 'mx'} \n",
      "\n",
      "Dirección: Autopista de Peaje Cuernavaca-México, Santa Cruz Chavarrieta, Xochimilco, San Miguel Topilejo, Ciudad de México, 16840, México\n",
      "Datos:\n",
      "{'road': 'Autopista de Peaje Cuernavaca-México', 'neighbourhood': 'Santa Cruz Chavarrieta', 'town': 'San Miguel Topilejo', 'city': 'Ciudad de México', 'postcode': '16840', 'country': 'México', 'country_code': 'mx'} \n",
      "\n",
      "Dirección: Carretera Picacho-Ajusco, La Magdalena Contreras, Ciudad de México, 14273, México\n",
      "Datos:\n",
      "{'road': 'Carretera Picacho-Ajusco', 'neighbourhood': 'La Magdalena Contreras', 'city': 'Ciudad de México', 'postcode': '14273', 'country': 'México', 'country_code': 'mx'} \n",
      "\n",
      "Dirección: Carretera Federal México-Cuernavaca, Tlalpan, Ciudad de México, 149000, México\n",
      "Datos:\n",
      "{'road': 'Carretera Federal México-Cuernavaca', 'neighbourhood': 'Tlalpan', 'city': 'Ciudad de México', 'postcode': '149000', 'country': 'México', 'country_code': 'mx'} \n",
      "\n",
      "Dirección: Autopista de Peaje Cuernavaca-México, El Arenal, Xochimilco, San Miguel Topilejo, Ciudad de México, 16808, México\n",
      "Datos:\n",
      "{'road': 'Autopista de Peaje Cuernavaca-México', 'neighbourhood': 'El Arenal', 'town': 'San Miguel Topilejo', 'city': 'Ciudad de México', 'postcode': '16808', 'country': 'México', 'country_code': 'mx'} \n",
      "\n",
      "Dirección: Autopista de Peaje México-Cuernavaca, Santa Cruz Chavarrieta, Xochimilco, San Miguel Topilejo, Ciudad de México, 16840, México\n",
      "Datos:\n",
      "{'road': 'Autopista de Peaje México-Cuernavaca', 'neighbourhood': 'Santa Cruz Chavarrieta', 'town': 'San Miguel Topilejo', 'city': 'Ciudad de México', 'postcode': '16840', 'country': 'México', 'country_code': 'mx'} \n",
      "\n",
      "Dirección: Calle Sierra de Pinos, Zona Rústica, Tlalpan, Parres (El Guarda), Ciudad de México, 14500, México\n",
      "Datos:\n",
      "{'road': 'Calle Sierra de Pinos', 'neighbourhood': 'Zona Rústica', 'village': 'Parres (El Guarda)', 'city': 'Ciudad de México', 'postcode': '14500', 'country': 'México', 'country_code': 'mx'} \n",
      "\n",
      "Dirección: Circuito Ajusco, La Magdalena Contreras, San Miguel Ajusco, Ciudad de México, 14700, México\n",
      "Datos:\n",
      "{'road': 'Circuito Ajusco', 'neighbourhood': 'La Magdalena Contreras', 'town': 'San Miguel Ajusco', 'city': 'Ciudad de México', 'postcode': '14700', 'country': 'México', 'country_code': 'mx'} \n",
      "\n",
      "Dirección: Calle Federal México-Cuernavaca, Tlalpan, San Miguel Topilejo, Ciudad de México, 14500, México\n",
      "Datos:\n",
      "{'road': 'Calle Federal México-Cuernavaca', 'neighbourhood': 'Tlalpan', 'town': 'San Miguel Topilejo', 'city': 'Ciudad de México', 'postcode': '14500', 'country': 'México', 'country_code': 'mx'} \n",
      "\n",
      "Dirección: Autopista de Peaje México-Cuernavaca, Santa Cruz Chavarrieta, Xochimilco, San Miguel Topilejo, Ciudad de México, 16840, México\n",
      "Datos:\n",
      "{'road': 'Autopista de Peaje México-Cuernavaca', 'neighbourhood': 'Santa Cruz Chavarrieta', 'town': 'San Miguel Topilejo', 'city': 'Ciudad de México', 'postcode': '16840', 'country': 'México', 'country_code': 'mx'} \n",
      "\n",
      "Dirección: Autopista de Peaje Cuernavaca-México, Santa Cruz Chavarrieta, Xochimilco, San Miguel Topilejo, Ciudad de México, 16840, México\n",
      "Datos:\n",
      "{'road': 'Autopista de Peaje Cuernavaca-México', 'neighbourhood': 'Santa Cruz Chavarrieta', 'town': 'San Miguel Topilejo', 'city': 'Ciudad de México', 'postcode': '16840', 'country': 'México', 'country_code': 'mx'} \n",
      "\n",
      "Dirección: Carretera Federal México-Cuernavaca, Tlalpan, Ciudad de México, 149000, México\n",
      "Datos:\n",
      "{'road': 'Carretera Federal México-Cuernavaca', 'neighbourhood': 'Tlalpan', 'city': 'Ciudad de México', 'postcode': '149000', 'country': 'México', 'country_code': 'mx'} \n",
      "\n",
      "Dirección: Carretera San Gregorio-Oaxtepec, Barrio La Luz, Milpa Alta, Ciudad de México, 12000, México\n",
      "Datos:\n",
      "{'road': 'Carretera San Gregorio-Oaxtepec', 'neighbourhood': 'Barrio La Luz', 'town': 'Milpa Alta', 'city': 'Ciudad de México', 'postcode': '12000', 'country': 'México', 'country_code': 'mx'} \n",
      "\n",
      "Dirección: Autopista de Peaje Cuernavaca-México, Santa Cruz Chavarrieta, Xochimilco, San Miguel Topilejo, Ciudad de México, 16840, México\n",
      "Datos:\n",
      "{'road': 'Autopista de Peaje Cuernavaca-México', 'neighbourhood': 'Santa Cruz Chavarrieta', 'town': 'San Miguel Topilejo', 'city': 'Ciudad de México', 'postcode': '16840', 'country': 'México', 'country_code': 'mx'} \n",
      "\n",
      "Dirección: Prolongación Benito Juárez, Nueva Tototitla, Xochimilco, Ciudad de México, 16880, México\n",
      "Datos:\n",
      "{'road': 'Prolongación Benito Juárez', 'neighbourhood': 'Nueva Tototitla', 'city': 'Ciudad de México', 'postcode': '16880', 'country': 'México', 'country_code': 'mx'} \n",
      "\n",
      "Dirección: Circuito Ajusco, La Magdalena Contreras, Ciudad de México, 14734, México\n",
      "Datos:\n",
      "{'road': 'Circuito Ajusco', 'neighbourhood': 'La Magdalena Contreras', 'city': 'Ciudad de México', 'postcode': '14734', 'country': 'México', 'country_code': 'mx'} \n",
      "\n",
      "Dirección: Carretera San Gregorio-Oaxtepec, Barrio Nuchtla, Milpa Alta, Ciudad de México, 12200, México\n",
      "Datos:\n",
      "{'road': 'Carretera San Gregorio-Oaxtepec', 'neighbourhood': 'Barrio Nuchtla', 'town': 'Milpa Alta', 'city': 'Ciudad de México', 'postcode': '12200', 'country': 'México', 'country_code': 'mx'} \n",
      "\n",
      "Dirección: Camino a San Bartolomé Xicomulco, San Bartolomé Xicomulco, Milpa Alta, Ciudad de México, 12250, México\n",
      "Datos:\n",
      "{'road': 'Camino a San Bartolomé Xicomulco', 'neighbourhood': 'San Bartolomé Xicomulco', 'town': 'Milpa Alta', 'city': 'Ciudad de México', 'postcode': '12250', 'country': 'México', 'country_code': 'mx'} \n",
      "\n"
     ]
    },
    {
     "name": "stdout",
     "output_type": "stream",
     "text": [
      "Dirección: Calle Tláloc, La Venta, Tlalpan, San Miguel Ajusco, Ciudad de México, 14700, México\n",
      "Datos:\n",
      "{'road': 'Calle Tláloc', 'neighbourhood': 'La Venta', 'town': 'San Miguel Ajusco', 'city': 'Ciudad de México', 'postcode': '14700', 'country': 'México', 'country_code': 'mx'} \n",
      "\n",
      "Dirección: Cerrada Huitziltepec, Xochimilco, San Miguel Topilejo, Ciudad de México, 14500, México\n",
      "Datos:\n",
      "{'road': 'Cerrada Huitziltepec', 'neighbourhood': 'Xochimilco', 'town': 'San Miguel Topilejo', 'city': 'Ciudad de México', 'postcode': '14500', 'country': 'México', 'country_code': 'mx'} \n",
      "\n",
      "Dirección: Carretera Federal México-Cuernavaca, Tlalpan, Parres (El Guarda), Ciudad de México, 14900, México\n",
      "Datos:\n",
      "{'road': 'Carretera Federal México-Cuernavaca', 'neighbourhood': 'Tlalpan', 'village': 'Parres (El Guarda)', 'city': 'Ciudad de México', 'postcode': '14900', 'country': 'México', 'country_code': 'mx'} \n",
      "\n",
      "Dirección: Autopista de Peaje Cuernavaca-México, Santa Cruz Chavarrieta, Xochimilco, San Miguel Topilejo, Ciudad de México, 16840, México\n",
      "Datos:\n",
      "{'road': 'Autopista de Peaje Cuernavaca-México', 'neighbourhood': 'Santa Cruz Chavarrieta', 'town': 'San Miguel Topilejo', 'city': 'Ciudad de México', 'postcode': '16840', 'country': 'México', 'country_code': 'mx'} \n",
      "\n",
      "Dirección: Carretera Federal México-Cuernavaca, Tlalpan, Ciudad de México, 149000, México\n",
      "Datos:\n",
      "{'road': 'Carretera Federal México-Cuernavaca', 'neighbourhood': 'Tlalpan', 'city': 'Ciudad de México', 'postcode': '149000', 'country': 'México', 'country_code': 'mx'} \n",
      "\n",
      "Dirección: Avenida Prolongación Constitución, Cuajimalpa de Morelos, Ciudad de México, Estado de México, 05410, México\n",
      "Datos:\n",
      "{'road': 'Avenida Prolongación Constitución', 'neighbourhood': 'Cuajimalpa de Morelos', 'city': 'Ciudad de México', 'state': 'Estado de México', 'postcode': '05410', 'country': 'México', 'country_code': 'mx'} \n",
      "\n",
      "Dirección: Autopista de Peaje México-Cuernavaca, Santa Cruz Chavarrieta, Xochimilco, San Miguel Topilejo, Ciudad de México, 16840, México\n",
      "Datos:\n",
      "{'road': 'Autopista de Peaje México-Cuernavaca', 'neighbourhood': 'Santa Cruz Chavarrieta', 'town': 'San Miguel Topilejo', 'city': 'Ciudad de México', 'postcode': '16840', 'country': 'México', 'country_code': 'mx'} \n",
      "\n",
      "Dirección: Circuito Ajusco, La Magdalena Contreras, Ciudad de México, 14734, México\n",
      "Datos:\n",
      "{'road': 'Circuito Ajusco', 'neighbourhood': 'La Magdalena Contreras', 'city': 'Ciudad de México', 'postcode': '14734', 'country': 'México', 'country_code': 'mx'} \n",
      "\n",
      "Dirección: Autopista de Peaje México-Cuernavaca, Santa Cruz Chavarrieta, Xochimilco, San Miguel Topilejo, Ciudad de México, 16840, México\n",
      "Datos:\n",
      "{'road': 'Autopista de Peaje México-Cuernavaca', 'neighbourhood': 'Santa Cruz Chavarrieta', 'town': 'San Miguel Topilejo', 'city': 'Ciudad de México', 'postcode': '16840', 'country': 'México', 'country_code': 'mx'} \n",
      "\n",
      "Dirección: Carretera San Gregorio-Oaxtepec, Milpa Alta, Ciudad de México, Juchitepec, Estado de México, 12930, México\n",
      "Datos:\n",
      "{'road': 'Carretera San Gregorio-Oaxtepec', 'town': 'Milpa Alta', 'city': 'Ciudad de México', 'county': 'Juchitepec', 'state': 'Estado de México', 'postcode': '12930', 'country': 'México', 'country_code': 'mx'} \n",
      "\n",
      "Dirección: Camino a los Dinamos de Contreras, La Magdalena Contreras, Ciudad de México, 10660, México\n",
      "Datos:\n",
      "{'road': 'Camino a los Dinamos de Contreras', 'neighbourhood': 'La Magdalena Contreras', 'city': 'Ciudad de México', 'postcode': '10660', 'country': 'México', 'country_code': 'mx'} \n",
      "\n",
      "Dirección: Autopista de Peaje Cuernavaca-México, Santa Cruz Chavarrieta, Xochimilco, San Miguel Topilejo, Ciudad de México, 16840, México\n",
      "Datos:\n",
      "{'road': 'Autopista de Peaje Cuernavaca-México', 'neighbourhood': 'Santa Cruz Chavarrieta', 'town': 'San Miguel Topilejo', 'city': 'Ciudad de México', 'postcode': '16840', 'country': 'México', 'country_code': 'mx'} \n",
      "\n",
      "Dirección: Circuito Ajusco, La Magdalena Contreras, San Miguel Ajusco, Ciudad de México, 14700, México\n",
      "Datos:\n",
      "{'road': 'Circuito Ajusco', 'neighbourhood': 'La Magdalena Contreras', 'town': 'San Miguel Ajusco', 'city': 'Ciudad de México', 'postcode': '14700', 'country': 'México', 'country_code': 'mx'} \n",
      "\n",
      "Dirección: Autopista de Peaje Cuernavaca-México, Santa Cruz Chavarrieta, Xochimilco, San Miguel Topilejo, Ciudad de México, 16840, México\n",
      "Datos:\n",
      "{'road': 'Autopista de Peaje Cuernavaca-México', 'neighbourhood': 'Santa Cruz Chavarrieta', 'town': 'San Miguel Topilejo', 'city': 'Ciudad de México', 'postcode': '16840', 'country': 'México', 'country_code': 'mx'} \n",
      "\n",
      "Dirección: México-Toluca (Cuota), Valle de las Monjas, Cuajimalpa de Morelos, Ciudad de México, 05730, México\n",
      "Datos:\n",
      "{'road': 'México-Toluca (Cuota)', 'neighbourhood': 'Valle de las Monjas', 'city': 'Ciudad de México', 'postcode': '05730', 'country': 'México', 'country_code': 'mx'} \n",
      "\n",
      "Dirección: Circuito Ajusco, La Magdalena Contreras, San Miguel Ajusco, Ciudad de México, 14700, México\n",
      "Datos:\n",
      "{'road': 'Circuito Ajusco', 'neighbourhood': 'La Magdalena Contreras', 'town': 'San Miguel Ajusco', 'city': 'Ciudad de México', 'postcode': '14700', 'country': 'México', 'country_code': 'mx'} \n",
      "\n"
     ]
    }
   ],
   "source": [
    "geolocator = Nominatim(user_agent=\"prueba\")\n",
    "for points in centermost_points:\n",
    "    location = geolocator.reverse(f\"{points[0]}, {points[1]}\")\n",
    "    print(f\"Dirección: {location.address}\")\n",
    "    print(f'Datos:\\n{location.raw[\"address\"]} \\n')"
   ]
  },
  {
   "cell_type": "code",
   "execution_count": null,
   "metadata": {},
   "outputs": [],
   "source": []
  }
 ],
 "metadata": {
  "colab": {
   "collapsed_sections": [],
   "name": "8_Cluster_DBSCAN.ipynb",
   "provenance": []
  },
  "kernelspec": {
   "display_name": "Python 3",
   "language": "python",
   "name": "python3"
  },
  "language_info": {
   "codemirror_mode": {
    "name": "ipython",
    "version": 3
   },
   "file_extension": ".py",
   "mimetype": "text/x-python",
   "name": "python",
   "nbconvert_exporter": "python",
   "pygments_lexer": "ipython3",
   "version": "3.9.5"
  },
  "metadata": {
   "interpreter": {
    "hash": "e7370f93d1d0cde622a1f8e1c04877d8463912d04d973331ad4851f04de6915a"
   }
  }
 },
 "nbformat": 4,
 "nbformat_minor": 1
}
