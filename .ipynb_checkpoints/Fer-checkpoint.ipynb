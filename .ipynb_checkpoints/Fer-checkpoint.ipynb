{
 "cells": [
  {
   "cell_type": "code",
   "execution_count": 36,
   "metadata": {},
   "outputs": [],
   "source": [
    "import pandas as pd\n",
    "import matplotlib.pyplot as plt\n",
    "import seaborn as sns\n",
    "import numpy as np\n",
    "import datetime as dt\n",
    "from scipy import stats as sts"
   ]
  },
  {
   "cell_type": "code",
   "execution_count": 4,
   "metadata": {},
   "outputs": [],
   "source": [
    "df = pd.read_csv('data/incidentes-viales-c5-limpio.csv', sep=\"$\", index_col=0)"
   ]
  },
  {
   "cell_type": "code",
   "execution_count": 10,
   "metadata": {},
   "outputs": [
    {
     "data": {
      "text/html": [
       "<div>\n",
       "<style scoped>\n",
       "    .dataframe tbody tr th:only-of-type {\n",
       "        vertical-align: middle;\n",
       "    }\n",
       "\n",
       "    .dataframe tbody tr th {\n",
       "        vertical-align: top;\n",
       "    }\n",
       "\n",
       "    .dataframe thead th {\n",
       "        text-align: right;\n",
       "    }\n",
       "</style>\n",
       "<table border=\"1\" class=\"dataframe\">\n",
       "  <thead>\n",
       "    <tr style=\"text-align: right;\">\n",
       "      <th></th>\n",
       "      <th>folio</th>\n",
       "      <th>codigo_cierre</th>\n",
       "      <th>delegacion_inicio</th>\n",
       "      <th>incidente_c4</th>\n",
       "      <th>latitud</th>\n",
       "      <th>longitud</th>\n",
       "      <th>clas_con_f_alarma</th>\n",
       "      <th>tipo_entrada</th>\n",
       "      <th>delegacion_cierre</th>\n",
       "      <th>mes</th>\n",
       "      <th>fecha_hora_cierre</th>\n",
       "      <th>fecha_hora_creacion</th>\n",
       "    </tr>\n",
       "  </thead>\n",
       "  <tbody>\n",
       "    <tr>\n",
       "      <th>693675</th>\n",
       "      <td>C5/210228/09218</td>\n",
       "      <td>N</td>\n",
       "      <td>MIGUEL HIDALGO</td>\n",
       "      <td>accidente-motociclista</td>\n",
       "      <td>19.392430</td>\n",
       "      <td>-99.239100</td>\n",
       "      <td>URGENCIAS MEDICAS</td>\n",
       "      <td>LLAMADA DEL 911</td>\n",
       "      <td>MIGUEL HIDALGO</td>\n",
       "      <td>2</td>\n",
       "      <td>2021-02-28 22:50:09</td>\n",
       "      <td>2021-02-28 22:23:07</td>\n",
       "    </tr>\n",
       "    <tr>\n",
       "      <th>693688</th>\n",
       "      <td>C5/210228/09309</td>\n",
       "      <td>N</td>\n",
       "      <td>IZTAPALAPA</td>\n",
       "      <td>accidente-choque sin lesionados</td>\n",
       "      <td>19.349940</td>\n",
       "      <td>-99.066890</td>\n",
       "      <td>EMERGENCIA</td>\n",
       "      <td>LLAMADA DEL 911</td>\n",
       "      <td>IZTAPALAPA</td>\n",
       "      <td>2</td>\n",
       "      <td>2021-02-28 23:44:19</td>\n",
       "      <td>2021-02-28 22:24:48</td>\n",
       "    </tr>\n",
       "    <tr>\n",
       "      <th>693689</th>\n",
       "      <td>C5/210228/09401</td>\n",
       "      <td>N</td>\n",
       "      <td>GUSTAVO A. MADERO</td>\n",
       "      <td>lesionado-atropellado</td>\n",
       "      <td>19.491660</td>\n",
       "      <td>-99.092150</td>\n",
       "      <td>URGENCIAS MEDICAS</td>\n",
       "      <td>LLAMADA DEL 911</td>\n",
       "      <td>GUSTAVO A. MADERO</td>\n",
       "      <td>2</td>\n",
       "      <td>2021-02-28 22:58:58</td>\n",
       "      <td>2021-02-28 22:45:49</td>\n",
       "    </tr>\n",
       "    <tr>\n",
       "      <th>693691</th>\n",
       "      <td>C5/210228/09417</td>\n",
       "      <td>A</td>\n",
       "      <td>AZCAPOTZALCO</td>\n",
       "      <td>accidente-choque sin lesionados</td>\n",
       "      <td>19.481660</td>\n",
       "      <td>-99.218560</td>\n",
       "      <td>EMERGENCIA</td>\n",
       "      <td>LLAMADA DEL 911</td>\n",
       "      <td>AZCAPOTZALCO</td>\n",
       "      <td>2</td>\n",
       "      <td>2021-02-28 23:48:19</td>\n",
       "      <td>2021-02-28 22:48:36</td>\n",
       "    </tr>\n",
       "    <tr>\n",
       "      <th>693692</th>\n",
       "      <td>IZ/210228/07916</td>\n",
       "      <td>A</td>\n",
       "      <td>XOCHIMILCO</td>\n",
       "      <td>accidente-choque sin lesionados</td>\n",
       "      <td>19.244195</td>\n",
       "      <td>-99.108017</td>\n",
       "      <td>EMERGENCIA</td>\n",
       "      <td>BOTÓN DE AUXILIO</td>\n",
       "      <td>XOCHIMILCO</td>\n",
       "      <td>2</td>\n",
       "      <td>2021-02-28 20:17:58</td>\n",
       "      <td>2021-02-28 19:46:33</td>\n",
       "    </tr>\n",
       "  </tbody>\n",
       "</table>\n",
       "</div>"
      ],
      "text/plain": [
       "                  folio codigo_cierre  delegacion_inicio  \\\n",
       "693675  C5/210228/09218             N     MIGUEL HIDALGO   \n",
       "693688  C5/210228/09309             N         IZTAPALAPA   \n",
       "693689  C5/210228/09401             N  GUSTAVO A. MADERO   \n",
       "693691  C5/210228/09417             A       AZCAPOTZALCO   \n",
       "693692  IZ/210228/07916             A         XOCHIMILCO   \n",
       "\n",
       "                           incidente_c4    latitud   longitud  \\\n",
       "693675           accidente-motociclista  19.392430 -99.239100   \n",
       "693688  accidente-choque sin lesionados  19.349940 -99.066890   \n",
       "693689            lesionado-atropellado  19.491660 -99.092150   \n",
       "693691  accidente-choque sin lesionados  19.481660 -99.218560   \n",
       "693692  accidente-choque sin lesionados  19.244195 -99.108017   \n",
       "\n",
       "        clas_con_f_alarma      tipo_entrada  delegacion_cierre  mes  \\\n",
       "693675  URGENCIAS MEDICAS   LLAMADA DEL 911     MIGUEL HIDALGO    2   \n",
       "693688         EMERGENCIA   LLAMADA DEL 911         IZTAPALAPA    2   \n",
       "693689  URGENCIAS MEDICAS   LLAMADA DEL 911  GUSTAVO A. MADERO    2   \n",
       "693691         EMERGENCIA   LLAMADA DEL 911       AZCAPOTZALCO    2   \n",
       "693692         EMERGENCIA  BOTÓN DE AUXILIO         XOCHIMILCO    2   \n",
       "\n",
       "          fecha_hora_cierre  fecha_hora_creacion  \n",
       "693675  2021-02-28 22:50:09  2021-02-28 22:23:07  \n",
       "693688  2021-02-28 23:44:19  2021-02-28 22:24:48  \n",
       "693689  2021-02-28 22:58:58  2021-02-28 22:45:49  \n",
       "693691  2021-02-28 23:48:19  2021-02-28 22:48:36  \n",
       "693692  2021-02-28 20:17:58  2021-02-28 19:46:33  "
      ]
     },
     "execution_count": 10,
     "metadata": {},
     "output_type": "execute_result"
    }
   ],
   "source": [
    "df.tail()"
   ]
  },
  {
   "cell_type": "code",
   "execution_count": 6,
   "metadata": {},
   "outputs": [
    {
     "data": {
      "text/html": [
       "<div>\n",
       "<style scoped>\n",
       "    .dataframe tbody tr th:only-of-type {\n",
       "        vertical-align: middle;\n",
       "    }\n",
       "\n",
       "    .dataframe tbody tr th {\n",
       "        vertical-align: top;\n",
       "    }\n",
       "\n",
       "    .dataframe thead th {\n",
       "        text-align: right;\n",
       "    }\n",
       "</style>\n",
       "<table border=\"1\" class=\"dataframe\">\n",
       "  <thead>\n",
       "    <tr style=\"text-align: right;\">\n",
       "      <th></th>\n",
       "      <th>latitud</th>\n",
       "      <th>longitud</th>\n",
       "      <th>mes</th>\n",
       "    </tr>\n",
       "  </thead>\n",
       "  <tbody>\n",
       "    <tr>\n",
       "      <th>count</th>\n",
       "      <td>369280.000000</td>\n",
       "      <td>369280.000000</td>\n",
       "      <td>369280.000000</td>\n",
       "    </tr>\n",
       "    <tr>\n",
       "      <th>mean</th>\n",
       "      <td>19.382307</td>\n",
       "      <td>-99.137894</td>\n",
       "      <td>6.442258</td>\n",
       "    </tr>\n",
       "    <tr>\n",
       "      <th>std</th>\n",
       "      <td>0.069267</td>\n",
       "      <td>0.062467</td>\n",
       "      <td>3.414201</td>\n",
       "    </tr>\n",
       "    <tr>\n",
       "      <th>min</th>\n",
       "      <td>19.095427</td>\n",
       "      <td>-99.370561</td>\n",
       "      <td>1.000000</td>\n",
       "    </tr>\n",
       "    <tr>\n",
       "      <th>25%</th>\n",
       "      <td>19.335590</td>\n",
       "      <td>-99.180590</td>\n",
       "      <td>3.000000</td>\n",
       "    </tr>\n",
       "    <tr>\n",
       "      <th>50%</th>\n",
       "      <td>19.383290</td>\n",
       "      <td>-99.141057</td>\n",
       "      <td>6.000000</td>\n",
       "    </tr>\n",
       "    <tr>\n",
       "      <th>75%</th>\n",
       "      <td>19.433160</td>\n",
       "      <td>-99.096370</td>\n",
       "      <td>9.000000</td>\n",
       "    </tr>\n",
       "    <tr>\n",
       "      <th>max</th>\n",
       "      <td>19.579320</td>\n",
       "      <td>-98.945370</td>\n",
       "      <td>12.000000</td>\n",
       "    </tr>\n",
       "  </tbody>\n",
       "</table>\n",
       "</div>"
      ],
      "text/plain": [
       "             latitud       longitud            mes\n",
       "count  369280.000000  369280.000000  369280.000000\n",
       "mean       19.382307     -99.137894       6.442258\n",
       "std         0.069267       0.062467       3.414201\n",
       "min        19.095427     -99.370561       1.000000\n",
       "25%        19.335590     -99.180590       3.000000\n",
       "50%        19.383290     -99.141057       6.000000\n",
       "75%        19.433160     -99.096370       9.000000\n",
       "max        19.579320     -98.945370      12.000000"
      ]
     },
     "execution_count": 6,
     "metadata": {},
     "output_type": "execute_result"
    }
   ],
   "source": [
    "df.describe()"
   ]
  },
  {
   "cell_type": "code",
   "execution_count": 7,
   "metadata": {},
   "outputs": [
    {
     "data": {
      "text/plain": [
       "(369280, 12)"
      ]
     },
     "execution_count": 7,
     "metadata": {},
     "output_type": "execute_result"
    }
   ],
   "source": [
    "df.shape"
   ]
  },
  {
   "cell_type": "code",
   "execution_count": 8,
   "metadata": {},
   "outputs": [
    {
     "data": {
      "text/plain": [
       "Index(['folio', 'codigo_cierre', 'delegacion_inicio', 'incidente_c4',\n",
       "       'latitud', 'longitud', 'clas_con_f_alarma', 'tipo_entrada',\n",
       "       'delegacion_cierre', 'mes', 'fecha_hora_cierre', 'fecha_hora_creacion'],\n",
       "      dtype='object')"
      ]
     },
     "execution_count": 8,
     "metadata": {},
     "output_type": "execute_result"
    }
   ],
   "source": [
    "df.columns"
   ]
  },
  {
   "cell_type": "code",
   "execution_count": 17,
   "metadata": {},
   "outputs": [
    {
     "data": {
      "text/plain": [
       "folio                   object\n",
       "codigo_cierre           object\n",
       "delegacion_inicio       object\n",
       "incidente_c4            object\n",
       "latitud                float64\n",
       "longitud               float64\n",
       "clas_con_f_alarma       object\n",
       "tipo_entrada            object\n",
       "delegacion_cierre       object\n",
       "mes                      int64\n",
       "fecha_hora_cierre       object\n",
       "fecha_hora_creacion     object\n",
       "dtype: object"
      ]
     },
     "execution_count": 17,
     "metadata": {},
     "output_type": "execute_result"
    }
   ],
   "source": [
    "df.dtypes"
   ]
  },
  {
   "cell_type": "code",
   "execution_count": 14,
   "metadata": {},
   "outputs": [],
   "source": [
    "diccionario_de_conversion = {\n",
    "    'codigo_cierre': 'category',\n",
    "    'fecha_hora_creacion': 'datetime64[ns]',\n",
    "    'fecha_hora_cierre': 'datetime64[ns]', \n",
    "    'delegacion_inicio': 'category',\n",
    "    'incidente_c4': 'category', \n",
    "    'clas_con_f_alarma': 'category', \n",
    "    'tipo_entrada': 'category',\n",
    "    'delegacion_cierre':'category',\n",
    "    'mes':'category'\n",
    "}"
   ]
  },
  {
   "cell_type": "code",
   "execution_count": 18,
   "metadata": {},
   "outputs": [],
   "source": [
    "df = df.astype(diccionario_de_conversion)"
   ]
  },
  {
   "cell_type": "code",
   "execution_count": 19,
   "metadata": {},
   "outputs": [
    {
     "data": {
      "text/plain": [
       "folio                          object\n",
       "codigo_cierre                category\n",
       "delegacion_inicio            category\n",
       "incidente_c4                 category\n",
       "latitud                       float64\n",
       "longitud                      float64\n",
       "clas_con_f_alarma            category\n",
       "tipo_entrada                 category\n",
       "delegacion_cierre            category\n",
       "mes                          category\n",
       "fecha_hora_cierre      datetime64[ns]\n",
       "fecha_hora_creacion    datetime64[ns]\n",
       "dtype: object"
      ]
     },
     "execution_count": 19,
     "metadata": {},
     "output_type": "execute_result"
    }
   ],
   "source": [
    "df.dtypes"
   ]
  },
  {
   "cell_type": "code",
   "execution_count": 20,
   "metadata": {},
   "outputs": [],
   "source": [
    "df_backup = df.copy()"
   ]
  },
  {
   "cell_type": "code",
   "execution_count": 32,
   "metadata": {},
   "outputs": [],
   "source": [
    "df['tiempo_atencion'] = (df['fecha_hora_cierre'] - df['fecha_hora_creacion']) / dt.timedelta(hours=1)"
   ]
  },
  {
   "cell_type": "code",
   "execution_count": 33,
   "metadata": {},
   "outputs": [
    {
     "data": {
      "text/html": [
       "<div>\n",
       "<style scoped>\n",
       "    .dataframe tbody tr th:only-of-type {\n",
       "        vertical-align: middle;\n",
       "    }\n",
       "\n",
       "    .dataframe tbody tr th {\n",
       "        vertical-align: top;\n",
       "    }\n",
       "\n",
       "    .dataframe thead th {\n",
       "        text-align: right;\n",
       "    }\n",
       "</style>\n",
       "<table border=\"1\" class=\"dataframe\">\n",
       "  <thead>\n",
       "    <tr style=\"text-align: right;\">\n",
       "      <th></th>\n",
       "      <th>folio</th>\n",
       "      <th>codigo_cierre</th>\n",
       "      <th>delegacion_inicio</th>\n",
       "      <th>incidente_c4</th>\n",
       "      <th>latitud</th>\n",
       "      <th>longitud</th>\n",
       "      <th>clas_con_f_alarma</th>\n",
       "      <th>tipo_entrada</th>\n",
       "      <th>delegacion_cierre</th>\n",
       "      <th>mes</th>\n",
       "      <th>fecha_hora_cierre</th>\n",
       "      <th>fecha_hora_creacion</th>\n",
       "      <th>tiempo_atencion</th>\n",
       "    </tr>\n",
       "  </thead>\n",
       "  <tbody>\n",
       "    <tr>\n",
       "      <th>2</th>\n",
       "      <td>C5/170622/03715</td>\n",
       "      <td>(N) La unidad de atención a emergencias fue de...</td>\n",
       "      <td>VENUSTIANO CARRANZA</td>\n",
       "      <td>accidente-choque sin lesionados</td>\n",
       "      <td>19.43053</td>\n",
       "      <td>-99.05260</td>\n",
       "      <td>EMERGENCIA</td>\n",
       "      <td>LLAMADA DEL 911</td>\n",
       "      <td>VENUSTIANO CARRANZA</td>\n",
       "      <td>6</td>\n",
       "      <td>2017-06-22 16:48:07</td>\n",
       "      <td>2017-06-22 13:44:52</td>\n",
       "      <td>3.054167</td>\n",
       "    </tr>\n",
       "    <tr>\n",
       "      <th>5</th>\n",
       "      <td>C5/170621/07339</td>\n",
       "      <td>(A) La unidad de atención a emergencias fue de...</td>\n",
       "      <td>IZTAPALAPA</td>\n",
       "      <td>accidente-choque sin lesionados</td>\n",
       "      <td>19.38676</td>\n",
       "      <td>-99.03350</td>\n",
       "      <td>EMERGENCIA</td>\n",
       "      <td>LLAMADA DEL 911</td>\n",
       "      <td>IZTAPALAPA</td>\n",
       "      <td>6</td>\n",
       "      <td>2017-06-22 03:53:51</td>\n",
       "      <td>2017-06-21 23:29:01</td>\n",
       "      <td>4.413889</td>\n",
       "    </tr>\n",
       "    <tr>\n",
       "      <th>8</th>\n",
       "      <td>C5/170622/01694</td>\n",
       "      <td>(N) La unidad de atención a emergencias fue de...</td>\n",
       "      <td>IZTAPALAPA</td>\n",
       "      <td>accidente-choque sin lesionados</td>\n",
       "      <td>19.35017</td>\n",
       "      <td>-99.07324</td>\n",
       "      <td>EMERGENCIA</td>\n",
       "      <td>LLAMADA DEL 911</td>\n",
       "      <td>IZTAPALAPA</td>\n",
       "      <td>6</td>\n",
       "      <td>2017-06-22 10:47:19</td>\n",
       "      <td>2017-06-22 08:51:30</td>\n",
       "      <td>1.930278</td>\n",
       "    </tr>\n",
       "    <tr>\n",
       "      <th>9</th>\n",
       "      <td>C5/170622/03779</td>\n",
       "      <td>(N) La unidad de atención a emergencias fue de...</td>\n",
       "      <td>CUAJIMALPA</td>\n",
       "      <td>accidente-choque sin lesionados</td>\n",
       "      <td>19.37273</td>\n",
       "      <td>-99.27753</td>\n",
       "      <td>EMERGENCIA</td>\n",
       "      <td>LLAMADA DEL 911</td>\n",
       "      <td>CUAJIMALPA</td>\n",
       "      <td>6</td>\n",
       "      <td>2017-06-22 14:17:46</td>\n",
       "      <td>2017-06-22 13:49:44</td>\n",
       "      <td>0.467222</td>\n",
       "    </tr>\n",
       "    <tr>\n",
       "      <th>12</th>\n",
       "      <td>C5/170622/04693</td>\n",
       "      <td>(N) La unidad de atención a emergencias fue de...</td>\n",
       "      <td>MIGUEL HIDALGO</td>\n",
       "      <td>accidente-choque sin lesionados</td>\n",
       "      <td>19.45316</td>\n",
       "      <td>-99.19868</td>\n",
       "      <td>EMERGENCIA</td>\n",
       "      <td>LLAMADA DEL 911</td>\n",
       "      <td>MIGUEL HIDALGO</td>\n",
       "      <td>6</td>\n",
       "      <td>2017-06-22 16:47:41</td>\n",
       "      <td>2017-06-22 15:48:39</td>\n",
       "      <td>0.983889</td>\n",
       "    </tr>\n",
       "  </tbody>\n",
       "</table>\n",
       "</div>"
      ],
      "text/plain": [
       "              folio                                      codigo_cierre  \\\n",
       "2   C5/170622/03715  (N) La unidad de atención a emergencias fue de...   \n",
       "5   C5/170621/07339  (A) La unidad de atención a emergencias fue de...   \n",
       "8   C5/170622/01694  (N) La unidad de atención a emergencias fue de...   \n",
       "9   C5/170622/03779  (N) La unidad de atención a emergencias fue de...   \n",
       "12  C5/170622/04693  (N) La unidad de atención a emergencias fue de...   \n",
       "\n",
       "      delegacion_inicio                     incidente_c4   latitud  longitud  \\\n",
       "2   VENUSTIANO CARRANZA  accidente-choque sin lesionados  19.43053 -99.05260   \n",
       "5            IZTAPALAPA  accidente-choque sin lesionados  19.38676 -99.03350   \n",
       "8            IZTAPALAPA  accidente-choque sin lesionados  19.35017 -99.07324   \n",
       "9            CUAJIMALPA  accidente-choque sin lesionados  19.37273 -99.27753   \n",
       "12       MIGUEL HIDALGO  accidente-choque sin lesionados  19.45316 -99.19868   \n",
       "\n",
       "   clas_con_f_alarma     tipo_entrada    delegacion_cierre mes  \\\n",
       "2         EMERGENCIA  LLAMADA DEL 911  VENUSTIANO CARRANZA   6   \n",
       "5         EMERGENCIA  LLAMADA DEL 911           IZTAPALAPA   6   \n",
       "8         EMERGENCIA  LLAMADA DEL 911           IZTAPALAPA   6   \n",
       "9         EMERGENCIA  LLAMADA DEL 911           CUAJIMALPA   6   \n",
       "12        EMERGENCIA  LLAMADA DEL 911       MIGUEL HIDALGO   6   \n",
       "\n",
       "     fecha_hora_cierre fecha_hora_creacion  tiempo_atencion  \n",
       "2  2017-06-22 16:48:07 2017-06-22 13:44:52         3.054167  \n",
       "5  2017-06-22 03:53:51 2017-06-21 23:29:01         4.413889  \n",
       "8  2017-06-22 10:47:19 2017-06-22 08:51:30         1.930278  \n",
       "9  2017-06-22 14:17:46 2017-06-22 13:49:44         0.467222  \n",
       "12 2017-06-22 16:47:41 2017-06-22 15:48:39         0.983889  "
      ]
     },
     "execution_count": 33,
     "metadata": {},
     "output_type": "execute_result"
    }
   ],
   "source": [
    "df.head()"
   ]
  },
  {
   "cell_type": "code",
   "execution_count": 37,
   "metadata": {},
   "outputs": [],
   "source": [
    "tiempo_atencion_mean = df.tiempo_atencion.mean()\n",
    "tiempo_atencion_median = df.tiempo_atencion.median()\n",
    "tiempo_atencion_timmed_mean = sts.trim_mean(df['tiempo_atencion'], 0.1)\n",
    "#tiempo_atencion_range = "
   ]
  },
  {
   "cell_type": "code",
   "execution_count": null,
   "metadata": {},
   "outputs": [],
   "source": []
  }
 ],
 "metadata": {
  "kernelspec": {
   "display_name": "Python 3",
   "language": "python",
   "name": "python3"
  },
  "language_info": {
   "codemirror_mode": {
    "name": "ipython",
    "version": 3
   },
   "file_extension": ".py",
   "mimetype": "text/x-python",
   "name": "python",
   "nbconvert_exporter": "python",
   "pygments_lexer": "ipython3",
   "version": "3.8.3"
  }
 },
 "nbformat": 4,
 "nbformat_minor": 4
}
